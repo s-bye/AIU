{
 "cells": [
  {
   "cell_type": "code",
   "execution_count": 1,
   "id": "initial_id",
   "metadata": {
    "collapsed": true,
    "ExecuteTime": {
     "end_time": "2024-02-21T14:49:21.086485Z",
     "start_time": "2024-02-21T14:49:20.755786400Z"
    }
   },
   "outputs": [],
   "source": [
    "import pandas as pd \n",
    "import numpy as np"
   ]
  },
  {
   "cell_type": "markdown",
   "source": [
    "# Question 1: Which type of data can be used while creating a series object in pandas? \n",
    "------------------------------------\n",
    "\n",
    "Series is a one-dimensional labeled array capable of holding any data type (integers, strings, floating point numbers, Python objects, etc.). \n",
    "The axis labels are collectively referred to as the index. The basic method to create a Series is to call:\n",
    "    ``` s = pd.Series(data, index=index) ```\n",
    "Here, data can be many different things:\n",
    "- a Python dict\n",
    "* a Python list\n",
    "+ an ndarray (numpy array)\n",
    "* a scalar value (like 5)\n",
    "\n",
    "### The passed index is a list of axis labels. Thus, this separates into a few cases depending on what data is.\n",
    "------------------------------------\n",
    ">    ``` s = pd.Series(data=None, index=None, dtype=None, name=None, copy=None, fastpath=_NoDefault.no_default) ```\n",
    "> **Parameters:**\n",
    "> data : Array-like, Iterable, dict, or scalar value.\n",
    "> Contains data stored in Series. If data is a dict, argument order is maintained.\n",
    "> \n",
    "> * — pandas 2.2.0 documentation"
   ],
   "metadata": {
    "collapsed": false
   },
   "id": "e63386be74de8d20"
  },
  {
   "cell_type": "markdown",
   "source": [
    "# Question 2: Create a series having the month's number as data and assign name as their index values? \n",
    "-----------------------------\n",
    "## Using a dictionary\n",
    "1. **Create a Dictionary:** Start by defining a Python dictionary where keys represent the index labels and values represent the data points.\n",
    "2. **Create a Series:** Use the `pd.Series()` constructor and pass the dictionary as an argument.\n",
    "3. **Print or Use the Series:** You can now print the Series or perform any desired operations with it.\n",
    "-----------------------------\n",
    "## Using a list\n",
    "1. **Create Lists for Data and Index:** Define separate lists for the data points and the corresponding index labels.\n",
    "2. **Create a Series:** Use the `pd.Series()` constructor and pass the data list as the first argument and the index list as the index parameter.\n",
    "3. **Print or Use the Series:** You can now print the Series or use it for further analysis."
   ],
   "metadata": {
    "collapsed": false
   },
   "id": "b9db42977a53038a"
  },
  {
   "cell_type": "code",
   "outputs": [
    {
     "name": "stdout",
     "output_type": "stream",
     "text": [
      "January       1\n",
      "February      2\n",
      "March         3\n",
      "April         4\n",
      "May           5\n",
      "June          6\n",
      "July          7\n",
      "August        8\n",
      "September     9\n",
      "October      10\n",
      "November     11\n",
      "December     12\n",
      "dtype: int64\n"
     ]
    }
   ],
   "source": [
    "# Using a dictionary \n",
    "# 1 step\n",
    "month_data = {\n",
    "    'January': 1,\n",
    "    'February': 2,\n",
    "    'March': 3,\n",
    "    'April': 4,\n",
    "    'May': 5,\n",
    "    'June': 6,\n",
    "    'July': 7,\n",
    "    'August': 8,\n",
    "    'September': 9,\n",
    "    'October': 10,\n",
    "    'November': 11,\n",
    "    'December': 12\n",
    "}\n",
    "# 2 step\n",
    "s = pd.Series(month_data)\n",
    "# 3 step\n",
    "print(s)"
   ],
   "metadata": {
    "collapsed": false,
    "ExecuteTime": {
     "end_time": "2024-02-21T14:49:21.094938600Z",
     "start_time": "2024-02-21T14:49:21.085483900Z"
    }
   },
   "id": "aea59ede3adfc69e",
   "execution_count": 2
  },
  {
   "cell_type": "code",
   "outputs": [
    {
     "name": "stdout",
     "output_type": "stream",
     "text": [
      "January       1\n",
      "February      2\n",
      "March         3\n",
      "April         4\n",
      "May           5\n",
      "June          6\n",
      "July          7\n",
      "August        8\n",
      "September     9\n",
      "October      10\n",
      "November     11\n",
      "December     12\n",
      "dtype: int64\n"
     ]
    }
   ],
   "source": [
    "# Using a list\n",
    "# 1 step\n",
    "months = ['January', 'February', 'March', 'April', 'May', 'June', 'July', 'August', 'September', 'October', 'November', 'December']\n",
    "month_numbers = list(range(1, 13))\n",
    "# 2 step\n",
    "s = pd.Series(month_numbers, index=months)\n",
    "# 3 step\n",
    "print(s)"
   ],
   "metadata": {
    "collapsed": false,
    "ExecuteTime": {
     "end_time": "2024-02-21T14:49:21.101299100Z",
     "start_time": "2024-02-21T14:49:21.092191600Z"
    }
   },
   "id": "f9ee10a89851abdf",
   "execution_count": 3
  },
  {
   "cell_type": "markdown",
   "source": [
    "# Question 3: Write a program to create a series object using the dictionary which store the number of students in fresh batch groups ( MatMIE, Mat DAIS, COMIE, COMEC)?\n",
    "-------------------------------"
   ],
   "metadata": {
    "collapsed": false
   },
   "id": "9218cb308535792f"
  },
  {
   "cell_type": "code",
   "outputs": [
    {
     "name": "stdout",
     "output_type": "stream",
     "text": [
      "Number of students in fresh batch groups:\n",
      "MATDAIS    25\n",
      "MATMIE     30\n",
      "COMIE      28\n",
      "COMEC      32\n",
      "dtype: int64\n"
     ]
    }
   ],
   "source": [
    "fresh_batch_groups = {\n",
    "    'MATDAIS': 25,\n",
    "    'MATMIE': 30,\n",
    "    'COMIE': 28,\n",
    "    'COMEC': 32\n",
    "}\n",
    "\n",
    "students_series = pd.Series(fresh_batch_groups)\n",
    "\n",
    "print(\"Number of students in fresh batch groups:\")\n",
    "print(students_series)"
   ],
   "metadata": {
    "collapsed": false,
    "ExecuteTime": {
     "end_time": "2024-02-21T14:49:21.102300200Z",
     "start_time": "2024-02-21T14:49:21.097445Z"
    }
   },
   "id": "1e348f8d3bf08088",
   "execution_count": 4
  },
  {
   "cell_type": "markdown",
   "source": [
    "# Question 4: Write a Pandas program to create and display a DataFrame from a specified dictionary data which has the index labels.\n",
    "--------------------------------------\n",
    "Sample Python dictionary data and list labels: \n",
    "``` \n",
    "exam_data = {'name': ['Anastasia', 'Dima', 'Katherine', 'James', 'Emily', 'Michael', 'Matthew', 'Laura', 'Kevin', 'Jonas'],\n",
    "            'score': [12.5, 9, 16.5, np.nan, 9, 20, 14.5, np.nan, 8, 19],\n",
    "            'attempts': [1, 3, 2, 3, 2, 3, 1, 1, 2, 1],\n",
    "            'qualify': ['yes', 'no', 'yes', 'no', 'no', 'yes', 'yes', 'no', 'no', 'yes']}\n",
    "labels = ['a', 'b', 'c', 'd', 'e', 'f', 'g', 'h', 'i', 'j'] \n",
    "```"
   ],
   "metadata": {
    "collapsed": false
   },
   "id": "f77c51559c6f1307"
  },
  {
   "cell_type": "code",
   "outputs": [
    {
     "name": "stdout",
     "output_type": "stream",
     "text": [
      "        name  score  attempts qualify\n",
      "a  Anastasia   12.5         1     yes\n",
      "b       Dima    9.0         3      no\n",
      "c  Katherine   16.5         2     yes\n",
      "d      James    NaN         3      no\n",
      "e      Emily    9.0         2      no\n",
      "f    Michael   20.0         3     yes\n",
      "g    Matthew   14.5         1     yes\n",
      "h      Laura    NaN         1      no\n",
      "i      Kevin    8.0         2      no\n",
      "j      Jonas   19.0         1     yes\n"
     ]
    }
   ],
   "source": [
    "exam_data = {'name': ['Anastasia', 'Dima', 'Katherine', 'James', 'Emily', 'Michael', 'Matthew', 'Laura', 'Kevin', 'Jonas'],\n",
    "             'score': [12.5, 9, 16.5, np.nan, 9, 20, 14.5, np.nan, 8, 19],\n",
    "             'attempts': [1, 3, 2, 3, 2, 3, 1, 1, 2, 1],\n",
    "             'qualify': ['yes', 'no', 'yes', 'no', 'no', 'yes', 'yes', 'no', 'no', 'yes']}\n",
    "labels = ['a', 'b', 'c', 'd', 'e', 'f', 'g', 'h', 'i', 'j'] \n",
    "\n",
    "df = pd.DataFrame(exam_data, index=labels)\n",
    "\n",
    "print(df)"
   ],
   "metadata": {
    "collapsed": false,
    "ExecuteTime": {
     "end_time": "2024-02-21T14:49:21.112760800Z",
     "start_time": "2024-02-21T14:49:21.103300600Z"
    }
   },
   "id": "7bbe2c7282face31",
   "execution_count": 5
  },
  {
   "cell_type": "markdown",
   "source": [
    "# Question 5: Write a Pandas program to select the rows where the number of attempts in the examination is greater than 2.\n",
    "---------------------------------------\n",
    "Sample Python dictionary data and list labels:\n",
    "```\n",
    "exam_data = {'name': ['Anastasia', 'Dima', 'Katherine', 'James', 'Emily', 'Michael', 'Matthew', 'Laura', 'Kevin', 'Jonas'],\n",
    "            'score': [12.5, 9, 16.5, np.nan, 9, 20, 14.5, np.nan, 8, 19],\n",
    "            'attempts': [1, 3, 2, 3, 2, 3, 1, 1, 2, 1],\n",
    "            'qualify': ['yes', 'no', 'yes', 'no', 'no', 'yes', 'yes', 'no', 'no', 'yes']}\n",
    "labels = ['a', 'b', 'c', 'd', 'e', 'f', 'g', 'h', 'i', 'j']\n",
    "```\n",
    "Expected Output:\n",
    "```\n",
    "Number of attempts in the examination is greater than 2:\n",
    "      name  score  attempts qualify\n",
    "b     Dima    9.0         3      no\n",
    "d    James    NaN         3      no\n",
    "f  Michael   20.0         3     yes\n",
    "```"
   ],
   "metadata": {
    "collapsed": false
   },
   "id": "27fea30350978083"
  },
  {
   "cell_type": "code",
   "outputs": [
    {
     "name": "stdout",
     "output_type": "stream",
     "text": [
      "      name  score  attempts qualify\n",
      "b     Dima    9.0         3      no\n",
      "d    James    NaN         3      no\n",
      "f  Michael   20.0         3     yes\n"
     ]
    }
   ],
   "source": [
    "exam_data = {\n",
    "    'name': ['Anastasia', 'Dima', 'Katherine', 'James', 'Emily', 'Michael', 'Matthew', 'Laura', 'Kevin', 'Jonas'],\n",
    "    'score': [12.5, 9, 16.5, np.nan, 9, 20, 14.5, np.nan, 8, 19],\n",
    "    'attempts': [1, 3, 2, 3, 2, 3, 1, 1, 2, 1],\n",
    "    'qualify': ['yes', 'no', 'yes', 'no', 'no', 'yes', 'yes', 'no', 'no', 'yes']\n",
    "}\n",
    "labels = ['a', 'b', 'c', 'd', 'e', 'f', 'g', 'h', 'i', 'j']\n",
    "\n",
    "df = pd.DataFrame(exam_data, index=labels)\n",
    "\n",
    "result = df[df['attempts'] > 2]\n",
    "\n",
    "print(result)"
   ],
   "metadata": {
    "collapsed": false,
    "ExecuteTime": {
     "end_time": "2024-02-21T14:49:21.118295Z",
     "start_time": "2024-02-21T14:49:21.111759800Z"
    }
   },
   "id": "ef6ea4e25acec4bc",
   "execution_count": 6
  }
 ],
 "metadata": {
  "kernelspec": {
   "display_name": "Python 3",
   "language": "python",
   "name": "python3"
  },
  "language_info": {
   "codemirror_mode": {
    "name": "ipython",
    "version": 2
   },
   "file_extension": ".py",
   "mimetype": "text/x-python",
   "name": "python",
   "nbconvert_exporter": "python",
   "pygments_lexer": "ipython2",
   "version": "2.7.6"
  }
 },
 "nbformat": 4,
 "nbformat_minor": 5
}
