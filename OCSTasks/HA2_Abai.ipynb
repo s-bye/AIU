{
 "cells": [
  {
   "cell_type": "code",
   "execution_count": 31,
   "id": "initial_id",
   "metadata": {
    "ExecuteTime": {
     "end_time": "2024-02-22T08:55:42.057389700Z",
     "start_time": "2024-02-22T08:55:42.048381300Z"
    }
   },
   "outputs": [],
   "source": [
    "import pandas as pd \n",
    "import numpy as np"
   ]
  },
  {
   "cell_type": "markdown",
   "id": "e63386be74de8d20",
   "metadata": {
    "collapsed": false
   },
   "source": [
    "# Question 1: Which type of data can be used while creating a series object in pandas? \n",
    "------------------------------------\n",
    "\n",
    "Series is a one-dimensional labeled array capable of holding any data type (integers, strings, floating point numbers, Python objects, etc.). \n",
    "The axis labels are collectively referred to as the index. The basic method to create a Series is to call:\n",
    "    ``` s = pd.Series(data, index=index) ```\n",
    "Here, data can be many different things:\n",
    "- a Python dict\n",
    "* a Python list\n",
    "+ an ndarray (numpy array)\n",
    "* a scalar value (like 5)\n",
    "\n",
    "### The passed index is a list of axis labels. Thus, this separates into a few cases depending on what data is.\n",
    "------------------------------------\n",
    ">    ``` s = pd.Series(data=None, index=None, dtype=None, name=None, copy=None, fastpath=_NoDefault.no_default) ```\n",
    "> **Parameters:**\n",
    "> data : Array-like, Iterable, dict, or scalar value.\n",
    "> Contains data stored in Series. If data is a dict, argument order is maintained.\n",
    "> \n",
    "> * — pandas 2.2.0 documentation"
   ]
  },
  {
   "cell_type": "markdown",
   "id": "b9db42977a53038a",
   "metadata": {
    "collapsed": false
   },
   "source": [
    "# Question 2: Create a series having the month's number as data and assign name as their index values? \n",
    "-----------------------------\n",
    "## Using a dictionary\n",
    "1. **Create a Dictionary:** Start by defining a Python dictionary where keys represent the index labels and values represent the data points.\n",
    "2. **Create a Series:** Use the `pd.Series()` constructor and pass the dictionary as an argument.\n",
    "3. **Print or Use the Series:** You can now print the Series or perform any desired operations with it.\n",
    "-----------------------------\n",
    "## Using a list\n",
    "1. **Create Lists for Data and Index:** Define separate lists for the data points and the corresponding index labels.\n",
    "2. **Create a Series:** Use the `pd.Series()` constructor and pass the data list as the first argument and the index list as the index parameter.\n",
    "3. **Print or Use the Series:** You can now print the Series or use it for further analysis."
   ]
  },
  {
   "cell_type": "code",
   "execution_count": 32,
   "id": "aea59ede3adfc69e",
   "metadata": {
    "collapsed": false,
    "ExecuteTime": {
     "end_time": "2024-02-22T08:55:42.073992Z",
     "start_time": "2024-02-22T08:55:42.062279900Z"
    }
   },
   "outputs": [
    {
     "name": "stdout",
     "output_type": "stream",
     "text": [
      "January       1\n",
      "February      2\n",
      "March         3\n",
      "April         4\n",
      "May           5\n",
      "June          6\n",
      "July          7\n",
      "August        8\n",
      "September     9\n",
      "October      10\n",
      "November     11\n",
      "December     12\n",
      "dtype: int64\n"
     ]
    }
   ],
   "source": [
    "# Using a dictionary \n",
    "# 1 step\n",
    "month_data = {\n",
    "    'January': 1,\n",
    "    'February': 2,\n",
    "    'March': 3,\n",
    "    'April': 4,\n",
    "    'May': 5,\n",
    "    'June': 6,\n",
    "    'July': 7,\n",
    "    'August': 8,\n",
    "    'September': 9,\n",
    "    'October': 10,\n",
    "    'November': 11,\n",
    "    'December': 12\n",
    "}\n",
    "# 2 step\n",
    "s = pd.Series(month_data)\n",
    "# 3 step\n",
    "print(s)"
   ]
  },
  {
   "cell_type": "code",
   "execution_count": 33,
   "id": "f9ee10a89851abdf",
   "metadata": {
    "collapsed": false,
    "ExecuteTime": {
     "end_time": "2024-02-22T08:55:42.083643100Z",
     "start_time": "2024-02-22T08:55:42.078996400Z"
    }
   },
   "outputs": [
    {
     "name": "stdout",
     "output_type": "stream",
     "text": [
      "January       1\n",
      "February      2\n",
      "March         3\n",
      "April         4\n",
      "May           5\n",
      "June          6\n",
      "July          7\n",
      "August        8\n",
      "September     9\n",
      "October      10\n",
      "November     11\n",
      "December     12\n",
      "dtype: int64\n"
     ]
    }
   ],
   "source": [
    "# Using a list\n",
    "# 1 step\n",
    "months = ['January', 'February', 'March', 'April', 'May', 'June', 'July', 'August', 'September', 'October', 'November', 'December']\n",
    "month_numbers = list(range(1, 13))\n",
    "# 2 step\n",
    "s = pd.Series(month_numbers, index=months)\n",
    "# 3 step\n",
    "print(s)"
   ]
  },
  {
   "cell_type": "markdown",
   "id": "9218cb308535792f",
   "metadata": {
    "collapsed": false
   },
   "source": []
  },
  {
   "cell_type": "code",
   "execution_count": 34,
   "id": "1e348f8d3bf08088",
   "metadata": {
    "collapsed": false,
    "ExecuteTime": {
     "end_time": "2024-02-22T08:55:42.090045400Z",
     "start_time": "2024-02-22T08:55:42.083643100Z"
    }
   },
   "outputs": [
    {
     "name": "stdout",
     "output_type": "stream",
     "text": [
      "Number of students in fresh batch groups:\n",
      "MATDAIS    25\n",
      "MATMIE     30\n",
      "COMIE      28\n",
      "COMEC      32\n",
      "dtype: int64\n"
     ]
    }
   ],
   "source": [
    "# 1 step\n",
    "fresh_batch_groups = {\n",
    "    'MATDAIS': 25,\n",
    "    'MATMIE': 30,\n",
    "    'COMIE': 28,\n",
    "    'COMEC': 32\n",
    "}\n",
    "\n",
    "# 2 step\n",
    "students_series = pd.Series(fresh_batch_groups)\n",
    "\n",
    "# 3 step\n",
    "print(\"Number of students in fresh batch groups:\")\n",
    "print(students_series)"
   ]
  },
  {
   "cell_type": "markdown",
   "id": "f77c51559c6f1307",
   "metadata": {
    "collapsed": false
   },
   "source": [
    "# Question 4: Write a Pandas program to create and display a DataFrame from a specified dictionary data which has the index labels.\n",
    "--------------------------------------\n",
    "\n",
    "    Sample Python dictionary data and list labels: \n",
    "    exam_data = {'name': ['Anastasia', 'Dima', 'Katherine', 'James', 'Emily', 'Michael', 'Matthew', 'Laura', 'Kevin', 'Jonas'],\n",
    "            'score': [12.5, 9, 16.5, np.nan, 9, 20, 14.5, np.nan, 8, 19],\n",
    "            'attempts': [1, 3, 2, 3, 2, 3, 1, 1, 2, 1],\n",
    "            'qualify': ['yes', 'no', 'yes', 'no', 'no', 'yes', 'yes', 'no', 'no', 'yes']}\n",
    "    labels = ['a', 'b', 'c', 'd', 'e', 'f', 'g', 'h', 'i', 'j'] \n",
    "\n",
    "--------------------------------------\n",
    "## Step-by-step explanation:\n",
    "1. **Define the dictionary**: A dictionary named `exam_data` is defined. It contains four key-value pairs:\n",
    "\n",
    "    + `name`: A list of names.\n",
    "    - `score`: A list of score.\n",
    "    * `attempts`: A list indicating the number of attempts.\n",
    "    + `qualify`: A list indicating whether the person qualifies, with values 'yes' or \n",
    "\n",
    "2. **Define the Index Labels**: Another list named `labels` is defined, containing labels for the index of the DataFrame. It has ten elements, one for each row of data.\n",
    "3. **Create DataFrame**: The `pd.DataFrame()` function is called to create a DataFrame named `df`. It takes the dictionary `exam_data` as its data argument and `labels` as the index argument. This means that the DataFrame will have the provided labels as its index.\n",
    "4. **Print DataFrame**: Finally, the `df` DataFrame is printed."
   ]
  },
  {
   "cell_type": "code",
   "execution_count": 35,
   "id": "7bbe2c7282face31",
   "metadata": {
    "collapsed": false,
    "ExecuteTime": {
     "end_time": "2024-02-22T08:55:42.116214600Z",
     "start_time": "2024-02-22T08:55:42.088803900Z"
    }
   },
   "outputs": [
    {
     "name": "stdout",
     "output_type": "stream",
     "text": [
      "        name  score  attempts qualify\n",
      "a  Anastasia   12.5         1     yes\n",
      "b       Dima    9.0         3      no\n",
      "c  Katherine   16.5         2     yes\n",
      "d      James    NaN         3      no\n",
      "e      Emily    9.0         2      no\n",
      "f    Michael   20.0         3     yes\n",
      "g    Matthew   14.5         1     yes\n",
      "h      Laura    NaN         1      no\n",
      "i      Kevin    8.0         2      no\n",
      "j      Jonas   19.0         1     yes\n"
     ]
    }
   ],
   "source": [
    "# 1 step\n",
    "exam_data = {'name': ['Anastasia', 'Dima', 'Katherine', 'James', 'Emily', 'Michael', 'Matthew', 'Laura', 'Kevin', 'Jonas'],\n",
    "             'score': [12.5, 9, 16.5, np.nan, 9, 20, 14.5, np.nan, 8, 19],\n",
    "             'attempts': [1, 3, 2, 3, 2, 3, 1, 1, 2, 1],\n",
    "             'qualify': ['yes', 'no', 'yes', 'no', 'no', 'yes', 'yes', 'no', 'no', 'yes']}\n",
    "# 2 step\n",
    "labels = ['a', 'b', 'c', 'd', 'e', 'f', 'g', 'h', 'i', 'j'] \n",
    "\n",
    "# 3 step\n",
    "df = pd.DataFrame(exam_data, index=labels)\n",
    "\n",
    "# 4 step\n",
    "print(df)"
   ]
  },
  {
   "cell_type": "markdown",
   "id": "27fea30350978083",
   "metadata": {
    "collapsed": false
   },
   "source": [
    "# Question 5: Write a Pandas program to select the rows where the number of attempts in the examination is greater than 2.\n",
    "---------------------------------------\n",
    "Sample Python dictionary data and list labels:\n",
    "```\n",
    "exam_data = {'name': ['Anastasia', 'Dima', 'Katherine', 'James', 'Emily', 'Michael', 'Matthew', 'Laura', 'Kevin', 'Jonas'],\n",
    "            'score': [12.5, 9, 16.5, np.nan, 9, 20, 14.5, np.nan, 8, 19],\n",
    "            'attempts': [1, 3, 2, 3, 2, 3, 1, 1, 2, 1],\n",
    "            'qualify': ['yes', 'no', 'yes', 'no', 'no', 'yes', 'yes', 'no', 'no', 'yes']}\n",
    "labels = ['a', 'b', 'c', 'd', 'e', 'f', 'g', 'h', 'i', 'j']\n",
    "```\n",
    "Expected Output:\n",
    "```\n",
    "Number of attempts in the examination is greater than 2:\n",
    "      name  score  attempts qualify\n",
    "b     Dima    9.0         3      no\n",
    "d    James    NaN         3      no\n",
    "f  Michael   20.0         3     yes\n",
    "```\n",
    "--------------------------------------\n",
    "## Step-by-step explanation:\n",
    "1. **Define the Data**: We have a dictionary named `exam_data`, which contains information about students names, scores, the number of attempts, and whether they qualify. Additionally, we have a list named `labels` which represents the index labels for the DataFrame.\n",
    "2. **Create DataFrame**: We create a DataFrame named df using the `pd.DataFrame()` function. This function takes `exam_data` as the data and `labels` as the index. This DataFrame will have rows indexed by the provided labels and columns named after the keys of the `exam_data` dictionary.\n",
    "3. **Select Rows Based on Condition**: We use boolean indexing to select rows where the number of attempts (`attempts` column) is greater than 2. This is achieved by passing a boolean condition `df['attempts'] > 2` inside square brackets.\n",
    "4. **Print Filtered DataFrame**: Finally, we print the filtered DataFrame `df_filtered`, which contains only the rows where the number of attempts is greater than 2."
   ]
  },
  {
   "cell_type": "code",
   "execution_count": 37,
   "id": "28dd67a3d88baa61",
   "metadata": {
    "collapsed": false,
    "ExecuteTime": {
     "end_time": "2024-02-22T08:57:15.390456700Z",
     "start_time": "2024-02-22T08:57:15.367607700Z"
    }
   },
   "outputs": [
    {
     "name": "stdout",
     "output_type": "stream",
     "text": [
      "Number of attempts in the examination is greater than 2:\n",
      "       name  score  attempts qualify\n",
      "b     Dima    9.0         3      no\n",
      "d    James    NaN         3      no\n",
      "f  Michael   20.0         3     yes\n"
     ]
    }
   ],
   "source": [
    "# 1 step\n",
    "exam_data = {\n",
    "    'name': ['Anastasia', 'Dima', 'Katherine', 'James', 'Emily', 'Michael', 'Matthew', 'Laura', 'Kevin', 'Jonas'],\n",
    "    'score': [12.5, 9, 16.5, np.nan, 9, 20, 14.5, np.nan, 8, 19],\n",
    "    'attempts': [1, 3, 2, 3, 2, 3, 1, 1, 2, 1],\n",
    "    'qualify': ['yes', 'no', 'yes', 'no', 'no', 'yes', 'yes', 'no', 'no', 'yes']\n",
    "}\n",
    "labels = ['a', 'b', 'c', 'd', 'e', 'f', 'g', 'h', 'i', 'j']\n",
    "\n",
    "# 2 step\n",
    "df = pd.DataFrame(exam_data, index=labels)\n",
    "\n",
    "# 3 step\n",
    "result = df[df['attempts'] > 2]\n",
    "\n",
    "# 4 step\n",
    "print('Number of attempts in the examination is greater than 2:\\n', result)"
   ]
  },
  {
   "cell_type": "code",
   "outputs": [],
   "source": [],
   "metadata": {
    "collapsed": false
   },
   "id": "60733cbe0c61f427"
  }
 ],
 "metadata": {
  "kernelspec": {
   "display_name": "Python 3 (ipykernel)",
   "language": "python",
   "name": "python3"
  },
  "language_info": {
   "codemirror_mode": {
    "name": "ipython",
    "version": 3
   },
   "file_extension": ".py",
   "mimetype": "text/x-python",
   "name": "python",
   "nbconvert_exporter": "python",
   "pygments_lexer": "ipython3",
   "version": "3.11.4"
  }
 },
 "nbformat": 4,
 "nbformat_minor": 5
}
