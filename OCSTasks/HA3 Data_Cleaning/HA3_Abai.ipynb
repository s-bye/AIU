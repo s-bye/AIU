{
 "cells": [
  {
   "cell_type": "code",
   "execution_count": 1,
   "id": "initial_id",
   "metadata": {
    "ExecuteTime": {
     "end_time": "2024-02-25T18:44:12.650301200Z",
     "start_time": "2024-02-25T18:44:12.628776600Z"
    }
   },
   "outputs": [],
   "source": [
    "import pandas as pd\n",
    "import numpy as np\n",
    "import matplotlib.pyplot as plt\n",
    "import seaborn as sns"
   ]
  },
  {
   "cell_type": "markdown",
   "id": "85d13c443bb22b40",
   "metadata": {
    "collapsed": false
   },
   "source": [
    "# HA: Data_cleaning\n",
    "-------------------------------\n",
    "## Handling Missing Data Questions\n",
    "### Question 1: How do you identify and handle missing values in a Pandas DataFrame?\n",
    "-------------------------------\n",
    "Identifying and handling missing values is a crucial task in data analysis using Pandas. Missing values can occur due to various reasons like data collection errors, data corruption, or simply because the information is not available. \n",
    "\n",
    "A missing value in a dataset is displayed as a question mark, zero, NaN or just a blank cell. But how can you deal with missing data?\n",
    "\n",
    "Of course, every situation is different and should be evaluated differently.\n",
    "\n",
    "There are many ways to deal with missing values. Let's look at typical options using the example of a dataset - 'Titanic'. This data is an open Kaggle dataset.\n",
    "\n",
    "#### Identification missing values\n",
    "\n",
    "There are two methods for detecting missing data: - `isnull()` and `notnull()`.\n",
    "\n",
    "The Pandas `read.csv()` method is used for loading. The file path is quoted in brackets, so that Pandas reads the file into the Dataframes from that address. The file path can be a URL address or your local file address.\n",
    "\n"
   ]
  },
  {
   "cell_type": "code",
   "execution_count": 2,
   "id": "3cd4bfb9f3c163f4",
   "metadata": {
    "collapsed": false,
    "ExecuteTime": {
     "end_time": "2024-02-25T18:44:12.667102100Z",
     "start_time": "2024-02-25T18:44:12.652302400Z"
    }
   },
   "outputs": [],
   "source": [
    "train_df = pd.read_csv('Titanic-Dataset.csv')"
   ]
  },
  {
   "cell_type": "markdown",
   "id": "3ac26c79290ff90b",
   "metadata": {
    "collapsed": false
   },
   "source": [
    "The result is a boolean value indicating whether the value passed to the argument is indeed missing. \"True\" ( True ) means that the value is a missing value, and \"False\" ( False ) means that the value is not missing."
   ]
  },
  {
   "cell_type": "code",
   "execution_count": 3,
   "id": "4a3475b96fcbc399",
   "metadata": {
    "collapsed": false,
    "ExecuteTime": {
     "end_time": "2024-02-25T18:44:12.671346500Z",
     "start_time": "2024-02-25T18:44:12.660095200Z"
    }
   },
   "outputs": [
    {
     "data": {
      "text/plain": "   PassengerId  Survived  Pclass   Name    Sex    Age  SibSp  Parch  Ticket  \\\n0        False     False   False  False  False  False  False  False   False   \n1        False     False   False  False  False  False  False  False   False   \n2        False     False   False  False  False  False  False  False   False   \n3        False     False   False  False  False  False  False  False   False   \n4        False     False   False  False  False  False  False  False   False   \n5        False     False   False  False  False   True  False  False   False   \n\n    Fare  Cabin  Embarked  \n0  False   True     False  \n1  False  False     False  \n2  False   True     False  \n3  False  False     False  \n4  False   True     False  \n5  False   True     False  ",
      "text/html": "<div>\n<style scoped>\n    .dataframe tbody tr th:only-of-type {\n        vertical-align: middle;\n    }\n\n    .dataframe tbody tr th {\n        vertical-align: top;\n    }\n\n    .dataframe thead th {\n        text-align: right;\n    }\n</style>\n<table border=\"1\" class=\"dataframe\">\n  <thead>\n    <tr style=\"text-align: right;\">\n      <th></th>\n      <th>PassengerId</th>\n      <th>Survived</th>\n      <th>Pclass</th>\n      <th>Name</th>\n      <th>Sex</th>\n      <th>Age</th>\n      <th>SibSp</th>\n      <th>Parch</th>\n      <th>Ticket</th>\n      <th>Fare</th>\n      <th>Cabin</th>\n      <th>Embarked</th>\n    </tr>\n  </thead>\n  <tbody>\n    <tr>\n      <th>0</th>\n      <td>False</td>\n      <td>False</td>\n      <td>False</td>\n      <td>False</td>\n      <td>False</td>\n      <td>False</td>\n      <td>False</td>\n      <td>False</td>\n      <td>False</td>\n      <td>False</td>\n      <td>True</td>\n      <td>False</td>\n    </tr>\n    <tr>\n      <th>1</th>\n      <td>False</td>\n      <td>False</td>\n      <td>False</td>\n      <td>False</td>\n      <td>False</td>\n      <td>False</td>\n      <td>False</td>\n      <td>False</td>\n      <td>False</td>\n      <td>False</td>\n      <td>False</td>\n      <td>False</td>\n    </tr>\n    <tr>\n      <th>2</th>\n      <td>False</td>\n      <td>False</td>\n      <td>False</td>\n      <td>False</td>\n      <td>False</td>\n      <td>False</td>\n      <td>False</td>\n      <td>False</td>\n      <td>False</td>\n      <td>False</td>\n      <td>True</td>\n      <td>False</td>\n    </tr>\n    <tr>\n      <th>3</th>\n      <td>False</td>\n      <td>False</td>\n      <td>False</td>\n      <td>False</td>\n      <td>False</td>\n      <td>False</td>\n      <td>False</td>\n      <td>False</td>\n      <td>False</td>\n      <td>False</td>\n      <td>False</td>\n      <td>False</td>\n    </tr>\n    <tr>\n      <th>4</th>\n      <td>False</td>\n      <td>False</td>\n      <td>False</td>\n      <td>False</td>\n      <td>False</td>\n      <td>False</td>\n      <td>False</td>\n      <td>False</td>\n      <td>False</td>\n      <td>False</td>\n      <td>True</td>\n      <td>False</td>\n    </tr>\n    <tr>\n      <th>5</th>\n      <td>False</td>\n      <td>False</td>\n      <td>False</td>\n      <td>False</td>\n      <td>False</td>\n      <td>True</td>\n      <td>False</td>\n      <td>False</td>\n      <td>False</td>\n      <td>False</td>\n      <td>True</td>\n      <td>False</td>\n    </tr>\n  </tbody>\n</table>\n</div>"
     },
     "execution_count": 3,
     "metadata": {},
     "output_type": "execute_result"
    }
   ],
   "source": [
    "missing_data = train_df.isnull()\n",
    "missing_data.head(6)"
   ]
  },
  {
   "cell_type": "markdown",
   "id": "c9b536979d515255",
   "metadata": {
    "collapsed": false
   },
   "source": [
    " `notnull()` method in Pandas is used to detect non-missing values in a DataFrame. It returns a boolean DataFrame where True indicates that the value is not missing, and False indicates that the value is missing. As an example, let's create some `df` DataFrame, check non-null values and output them, also let's find out which cabins in the dataset are non-null and output them. Let's write a code that will find the non-zero values in the 'Cabin' column and output them to us."
   ]
  },
  {
   "cell_type": "code",
   "outputs": [
    {
     "name": "stdout",
     "output_type": "stream",
     "text": [
      "       A      B     C\n",
      "0   True  False  True\n",
      "1   True   True  True\n",
      "2  False   True  True\n",
      "3   True   True  True\n"
     ]
    }
   ],
   "source": [
    "data = {'A': [1, 2, np.nan, 4],\n",
    "        'B': [np.nan, 5, 6, 7],\n",
    "        'C': ['a', 'b', 'c', 'd']}\n",
    "df = pd.DataFrame(data)\n",
    "\n",
    "# Using notnull() to detect non-missing values\n",
    "not_missing_data = df.notnull()\n",
    "print(not_missing_data)"
   ],
   "metadata": {
    "collapsed": false,
    "ExecuteTime": {
     "end_time": "2024-02-25T18:44:12.678092600Z",
     "start_time": "2024-02-25T18:44:12.672347Z"
    }
   },
   "id": "8aebd627a78a46fd",
   "execution_count": 4
  },
  {
   "cell_type": "code",
   "execution_count": 5,
   "id": "66091891472a4566",
   "metadata": {
    "collapsed": false,
    "ExecuteTime": {
     "end_time": "2024-02-25T18:44:12.720952Z",
     "start_time": "2024-02-25T18:44:12.677091200Z"
    }
   },
   "outputs": [
    {
     "data": {
      "text/plain": "     PassengerId  Survived  Pclass  \\\n1              2         1       1   \n3              4         1       1   \n6              7         0       1   \n10            11         1       3   \n11            12         1       1   \n..           ...       ...     ...   \n871          872         1       1   \n872          873         0       1   \n879          880         1       1   \n887          888         1       1   \n889          890         1       1   \n\n                                                  Name     Sex   Age  SibSp  \\\n1    Cumings, Mrs. John Bradley (Florence Briggs Th...  female  38.0      1   \n3         Futrelle, Mrs. Jacques Heath (Lily May Peel)  female  35.0      1   \n6                              McCarthy, Mr. Timothy J    male  54.0      0   \n10                     Sandstrom, Miss. Marguerite Rut  female   4.0      1   \n11                            Bonnell, Miss. Elizabeth  female  58.0      0   \n..                                                 ...     ...   ...    ...   \n871   Beckwith, Mrs. Richard Leonard (Sallie Monypeny)  female  47.0      1   \n872                           Carlsson, Mr. Frans Olof    male  33.0      0   \n879      Potter, Mrs. Thomas Jr (Lily Alexenia Wilson)  female  56.0      0   \n887                       Graham, Miss. Margaret Edith  female  19.0      0   \n889                              Behr, Mr. Karl Howell    male  26.0      0   \n\n     Parch    Ticket     Fare        Cabin Embarked  \n1        0  PC 17599  71.2833          C85        C  \n3        0    113803  53.1000         C123        S  \n6        0     17463  51.8625          E46        S  \n10       1   PP 9549  16.7000           G6        S  \n11       0    113783  26.5500         C103        S  \n..     ...       ...      ...          ...      ...  \n871      1     11751  52.5542          D35        S  \n872      0       695   5.0000  B51 B53 B55        S  \n879      1     11767  83.1583          C50        C  \n887      0    112053  30.0000          B42        S  \n889      0    111369  30.0000         C148        C  \n\n[204 rows x 12 columns]",
      "text/html": "<div>\n<style scoped>\n    .dataframe tbody tr th:only-of-type {\n        vertical-align: middle;\n    }\n\n    .dataframe tbody tr th {\n        vertical-align: top;\n    }\n\n    .dataframe thead th {\n        text-align: right;\n    }\n</style>\n<table border=\"1\" class=\"dataframe\">\n  <thead>\n    <tr style=\"text-align: right;\">\n      <th></th>\n      <th>PassengerId</th>\n      <th>Survived</th>\n      <th>Pclass</th>\n      <th>Name</th>\n      <th>Sex</th>\n      <th>Age</th>\n      <th>SibSp</th>\n      <th>Parch</th>\n      <th>Ticket</th>\n      <th>Fare</th>\n      <th>Cabin</th>\n      <th>Embarked</th>\n    </tr>\n  </thead>\n  <tbody>\n    <tr>\n      <th>1</th>\n      <td>2</td>\n      <td>1</td>\n      <td>1</td>\n      <td>Cumings, Mrs. John Bradley (Florence Briggs Th...</td>\n      <td>female</td>\n      <td>38.0</td>\n      <td>1</td>\n      <td>0</td>\n      <td>PC 17599</td>\n      <td>71.2833</td>\n      <td>C85</td>\n      <td>C</td>\n    </tr>\n    <tr>\n      <th>3</th>\n      <td>4</td>\n      <td>1</td>\n      <td>1</td>\n      <td>Futrelle, Mrs. Jacques Heath (Lily May Peel)</td>\n      <td>female</td>\n      <td>35.0</td>\n      <td>1</td>\n      <td>0</td>\n      <td>113803</td>\n      <td>53.1000</td>\n      <td>C123</td>\n      <td>S</td>\n    </tr>\n    <tr>\n      <th>6</th>\n      <td>7</td>\n      <td>0</td>\n      <td>1</td>\n      <td>McCarthy, Mr. Timothy J</td>\n      <td>male</td>\n      <td>54.0</td>\n      <td>0</td>\n      <td>0</td>\n      <td>17463</td>\n      <td>51.8625</td>\n      <td>E46</td>\n      <td>S</td>\n    </tr>\n    <tr>\n      <th>10</th>\n      <td>11</td>\n      <td>1</td>\n      <td>3</td>\n      <td>Sandstrom, Miss. Marguerite Rut</td>\n      <td>female</td>\n      <td>4.0</td>\n      <td>1</td>\n      <td>1</td>\n      <td>PP 9549</td>\n      <td>16.7000</td>\n      <td>G6</td>\n      <td>S</td>\n    </tr>\n    <tr>\n      <th>11</th>\n      <td>12</td>\n      <td>1</td>\n      <td>1</td>\n      <td>Bonnell, Miss. Elizabeth</td>\n      <td>female</td>\n      <td>58.0</td>\n      <td>0</td>\n      <td>0</td>\n      <td>113783</td>\n      <td>26.5500</td>\n      <td>C103</td>\n      <td>S</td>\n    </tr>\n    <tr>\n      <th>...</th>\n      <td>...</td>\n      <td>...</td>\n      <td>...</td>\n      <td>...</td>\n      <td>...</td>\n      <td>...</td>\n      <td>...</td>\n      <td>...</td>\n      <td>...</td>\n      <td>...</td>\n      <td>...</td>\n      <td>...</td>\n    </tr>\n    <tr>\n      <th>871</th>\n      <td>872</td>\n      <td>1</td>\n      <td>1</td>\n      <td>Beckwith, Mrs. Richard Leonard (Sallie Monypeny)</td>\n      <td>female</td>\n      <td>47.0</td>\n      <td>1</td>\n      <td>1</td>\n      <td>11751</td>\n      <td>52.5542</td>\n      <td>D35</td>\n      <td>S</td>\n    </tr>\n    <tr>\n      <th>872</th>\n      <td>873</td>\n      <td>0</td>\n      <td>1</td>\n      <td>Carlsson, Mr. Frans Olof</td>\n      <td>male</td>\n      <td>33.0</td>\n      <td>0</td>\n      <td>0</td>\n      <td>695</td>\n      <td>5.0000</td>\n      <td>B51 B53 B55</td>\n      <td>S</td>\n    </tr>\n    <tr>\n      <th>879</th>\n      <td>880</td>\n      <td>1</td>\n      <td>1</td>\n      <td>Potter, Mrs. Thomas Jr (Lily Alexenia Wilson)</td>\n      <td>female</td>\n      <td>56.0</td>\n      <td>0</td>\n      <td>1</td>\n      <td>11767</td>\n      <td>83.1583</td>\n      <td>C50</td>\n      <td>C</td>\n    </tr>\n    <tr>\n      <th>887</th>\n      <td>888</td>\n      <td>1</td>\n      <td>1</td>\n      <td>Graham, Miss. Margaret Edith</td>\n      <td>female</td>\n      <td>19.0</td>\n      <td>0</td>\n      <td>0</td>\n      <td>112053</td>\n      <td>30.0000</td>\n      <td>B42</td>\n      <td>S</td>\n    </tr>\n    <tr>\n      <th>889</th>\n      <td>890</td>\n      <td>1</td>\n      <td>1</td>\n      <td>Behr, Mr. Karl Howell</td>\n      <td>male</td>\n      <td>26.0</td>\n      <td>0</td>\n      <td>0</td>\n      <td>111369</td>\n      <td>30.0000</td>\n      <td>C148</td>\n      <td>C</td>\n    </tr>\n  </tbody>\n</table>\n<p>204 rows × 12 columns</p>\n</div>"
     },
     "execution_count": 5,
     "metadata": {},
     "output_type": "execute_result"
    }
   ],
   "source": [
    "not_missing_data = pd.notnull(train_df['Cabin'])\n",
    "train_df[not_missing_data]"
   ]
  },
  {
   "cell_type": "markdown",
   "source": [
    "Now let's see how many missing values are in each column using `train_df.isnull().sum()`. `train_df.isnull().sum()` calculates the total number of missing values in each column of the `train_df`. We use `.use()` function in this situation."
   ],
   "metadata": {
    "collapsed": false
   },
   "id": "6c4104a21c9842b0"
  },
  {
   "cell_type": "code",
   "outputs": [
    {
     "data": {
      "text/plain": "PassengerId      0\nSurvived         0\nPclass           0\nName             0\nSex              0\nAge            177\nSibSp            0\nParch            0\nTicket           0\nFare             0\nCabin          687\nEmbarked         2\ndtype: int64"
     },
     "execution_count": 6,
     "metadata": {},
     "output_type": "execute_result"
    }
   ],
   "source": [
    "train_df.isnull().sum()"
   ],
   "metadata": {
    "collapsed": false,
    "ExecuteTime": {
     "end_time": "2024-02-25T18:44:12.720952Z",
     "start_time": "2024-02-25T18:44:12.688411800Z"
    }
   },
   "id": "6dffe63ea48f941b",
   "execution_count": 6
  },
  {
   "cell_type": "markdown",
   "source": [
    "#### Handling missing values\n",
    "##### Remove missing values\n",
    "The most obvious thing we can do is to remove these missing values. We can delete rows and columns with missing values using `dropna()`.  As a first example, let's remove rows with missing values from a DataFrame that was created earlier."
   ],
   "metadata": {
    "collapsed": false
   },
   "id": "143a12110ebc9bf"
  },
  {
   "cell_type": "code",
   "outputs": [
    {
     "name": "stdout",
     "output_type": "stream",
     "text": [
      "     A    B  C\n",
      "1  2.0  5.0  b\n",
      "3  4.0  7.0  d\n"
     ]
    }
   ],
   "source": [
    "df.dropna(inplace=True)\n",
    "print(df)"
   ],
   "metadata": {
    "collapsed": false,
    "ExecuteTime": {
     "end_time": "2024-02-25T18:44:12.721952800Z",
     "start_time": "2024-02-25T18:44:12.693416500Z"
    }
   },
   "id": "98259f654788b9d7",
   "execution_count": 7
  },
  {
   "cell_type": "markdown",
   "source": [
    "Now let's delete all rows with passengers who have unknown cabin numbers and output the result."
   ],
   "metadata": {
    "collapsed": false
   },
   "id": "450012abde387493"
  },
  {
   "cell_type": "code",
   "outputs": [
    {
     "name": "stdout",
     "output_type": "stream",
     "text": [
      "     PassengerId  Survived  Pclass  \\\n",
      "1              2         1       1   \n",
      "3              4         1       1   \n",
      "6              7         0       1   \n",
      "10            11         1       3   \n",
      "11            12         1       1   \n",
      "..           ...       ...     ...   \n",
      "871          872         1       1   \n",
      "872          873         0       1   \n",
      "879          880         1       1   \n",
      "887          888         1       1   \n",
      "889          890         1       1   \n",
      "\n",
      "                                                  Name     Sex   Age  SibSp  \\\n",
      "1    Cumings, Mrs. John Bradley (Florence Briggs Th...  female  38.0      1   \n",
      "3         Futrelle, Mrs. Jacques Heath (Lily May Peel)  female  35.0      1   \n",
      "6                              McCarthy, Mr. Timothy J    male  54.0      0   \n",
      "10                     Sandstrom, Miss. Marguerite Rut  female   4.0      1   \n",
      "11                            Bonnell, Miss. Elizabeth  female  58.0      0   \n",
      "..                                                 ...     ...   ...    ...   \n",
      "871   Beckwith, Mrs. Richard Leonard (Sallie Monypeny)  female  47.0      1   \n",
      "872                           Carlsson, Mr. Frans Olof    male  33.0      0   \n",
      "879      Potter, Mrs. Thomas Jr (Lily Alexenia Wilson)  female  56.0      0   \n",
      "887                       Graham, Miss. Margaret Edith  female  19.0      0   \n",
      "889                              Behr, Mr. Karl Howell    male  26.0      0   \n",
      "\n",
      "     Parch    Ticket     Fare        Cabin Embarked  \n",
      "1        0  PC 17599  71.2833          C85        C  \n",
      "3        0    113803  53.1000         C123        S  \n",
      "6        0     17463  51.8625          E46        S  \n",
      "10       1   PP 9549  16.7000           G6        S  \n",
      "11       0    113783  26.5500         C103        S  \n",
      "..     ...       ...      ...          ...      ...  \n",
      "871      1     11751  52.5542          D35        S  \n",
      "872      0       695   5.0000  B51 B53 B55        S  \n",
      "879      1     11767  83.1583          C50        C  \n",
      "887      0    112053  30.0000          B42        S  \n",
      "889      0    111369  30.0000         C148        C  \n",
      "\n",
      "[204 rows x 12 columns]\n"
     ]
    }
   ],
   "source": [
    "passengers_with_known_cabins = train_df.dropna(subset='Cabin')\n",
    "print(passengers_with_known_cabins)"
   ],
   "metadata": {
    "collapsed": false,
    "ExecuteTime": {
     "end_time": "2024-02-25T18:44:12.721952800Z",
     "start_time": "2024-02-25T18:44:12.698193600Z"
    }
   },
   "id": "e7341c76078b25e5",
   "execution_count": 8
  },
  {
   "cell_type": "markdown",
   "source": [
    "##### Replace missing values\n",
    "When dealing with missing data in a Pandas DataFrame, one approach is to fill in those missing values. The `fillna()` method provides a convenient way to achieve this. Let's work with the titanic dataset. For the example, let's replace the age value with the average passengers with missing age value. To do this, let's us find the average value of people's age and replace missing values with it. For convenience, let's take a particular person with a missing age value, for example the person from line 6 - Mr. James."
   ],
   "metadata": {
    "collapsed": false
   },
   "id": "67909ebf5f3b063d"
  },
  {
   "cell_type": "code",
   "outputs": [
    {
     "name": "stdout",
     "output_type": "stream",
     "text": [
      "PassengerId                   6\n",
      "Survived                      0\n",
      "Pclass                        3\n",
      "Name           Moran, Mr. James\n",
      "Sex                        male\n",
      "Age                   29.699118\n",
      "SibSp                         0\n",
      "Parch                         0\n",
      "Ticket                   330877\n",
      "Fare                     8.4583\n",
      "Cabin                       NaN\n",
      "Embarked                      Q\n",
      "Name: 5, dtype: object\n"
     ]
    },
    {
     "name": "stderr",
     "output_type": "stream",
     "text": [
      "C:\\Users\\MZBes\\AppData\\Local\\Temp\\ipykernel_13896\\3161201996.py:1: FutureWarning: A value is trying to be set on a copy of a DataFrame or Series through chained assignment using an inplace method.\n",
      "The behavior will change in pandas 3.0. This inplace method will never work because the intermediate object on which we are setting values always behaves as a copy.\n",
      "\n",
      "For example, when doing 'df[col].method(value, inplace=True)', try using 'df.method({col: value}, inplace=True)' or df[col] = df[col].method(value) instead, to perform the operation inplace on the original object.\n",
      "\n",
      "\n",
      "  train_df['Age'].fillna(train_df['Age'].mean(), inplace = True)\n"
     ]
    }
   ],
   "source": [
    "train_df['Age'].fillna(train_df['Age'].mean(), inplace = True)\n",
    "print(train_df.iloc[5])"
   ],
   "metadata": {
    "collapsed": false,
    "ExecuteTime": {
     "end_time": "2024-02-25T18:44:12.722953600Z",
     "start_time": "2024-02-25T18:44:12.705221800Z"
    }
   },
   "id": "36c29e22ecd991af",
   "execution_count": 9
  },
  {
   "cell_type": "markdown",
   "source": [
    "##### Interpolation \n",
    "To deal with missing data in a dataset, interpolation is a very useful method for estimating and filling the gaps. Interpolation refers to the estimation of missing values using known data points that surround them. This technique works best for time series or ordered data where we expect that the missing values exhibit some pattern.\n",
    "\n",
    "Pandas provides for `interpolate()` function which allows for various types of interpolation. Let’s see it with a simple example:"
   ],
   "metadata": {
    "collapsed": false
   },
   "id": "1c034c824648de6"
  },
  {
   "cell_type": "code",
   "outputs": [
    {
     "name": "stdout",
     "output_type": "stream",
     "text": [
      "        Date  Value\n",
      "0 2022-01-01    1.0\n",
      "1 2022-01-02    2.0\n",
      "2 2022-01-03    3.0\n",
      "3 2022-01-04    4.0\n",
      "4 2022-01-05    5.0\n",
      "5 2022-01-06    6.0\n",
      "6 2022-01-07    7.0\n",
      "7 2022-01-08    8.0\n",
      "8 2022-01-09    9.0\n",
      "9 2022-01-10   10.0\n"
     ]
    }
   ],
   "source": [
    "data_interpolation = {'Date': pd.date_range(start='2022-01-01', periods=10),\n",
    "        'Value': [1, 2, np.nan, 4, np.nan, 6, np.nan, 8, 9, 10]}\n",
    "df_interpolation = pd.DataFrame(data_interpolation)\n",
    "print(df_interpolation.interpolate(method='linear'))"
   ],
   "metadata": {
    "collapsed": false,
    "ExecuteTime": {
     "end_time": "2024-02-25T18:44:12.783008Z",
     "start_time": "2024-02-25T18:44:12.710649200Z"
    }
   },
   "id": "3ad35afc9d1f907e",
   "execution_count": 10
  },
  {
   "cell_type": "markdown",
   "source": [
    "There, the missing values are replaced with the estimated values obtained through linear interpolation."
   ],
   "metadata": {
    "collapsed": false
   },
   "id": "2c339c5659db735e"
  },
  {
   "cell_type": "markdown",
   "source": [
    "##### Forward Fill (ffill) and Backward Fill (bfill)\n",
    "Forward fill `ffill` and backward fill `bfill` are techniques for filling missing values in a DataFrame by propagating non-null values forward or backward along a specified axis, which is applicable to time series data or sequential data where missing values happen in sequence.\n",
    "\n",
    "1. Forward fill `ffill`\n",
    "\n",
    "+ With forward fill method, the missing values get replaced with those of the previous available ones on that particular column, as it pursues the last observed value until the next null value is met.\n",
    "\n",
    "- This way is good when the most recent valid information should be carried through subsequent periods with no information.\n",
    "\n",
    "2. Backward fill `bfill`\n",
    "\n",
    "+ The missing values are replaced with those of the succeeding populated cells within that specific axis through utilizing backward fill technique. It moves backwards to propagate till it gets to another previous unavailable value.\n",
    "\n",
    "- In cases where there is an expectation of future valuable observation, back-fill can come into play here since all empty spaces should take up valid measures from their respective future positions.\n",
    "\n",
    "Let’s see how they work using example:"
   ],
   "metadata": {
    "collapsed": false
   },
   "id": "efbdae472caa7ad7"
  },
  {
   "cell_type": "code",
   "outputs": [
    {
     "name": "stdout",
     "output_type": "stream",
     "text": [
      "     A    B\n",
      "0  1.0  NaN\n",
      "1  1.0  2.0\n",
      "2  3.0  2.0\n",
      "3  3.0  4.0\n",
      "4  5.0  4.0\n",
      "     A    B\n",
      "0  1.0  2.0\n",
      "1  3.0  2.0\n",
      "2  3.0  4.0\n",
      "3  5.0  4.0\n",
      "4  5.0  NaN\n"
     ]
    }
   ],
   "source": [
    "data_fbfill = {'A': [1, np.nan, 3, np.nan, 5],\n",
    "        'B': [np.nan, 2, np.nan, 4, np.nan]}\n",
    "df_fbfill = pd.DataFrame(data_fbfill)\n",
    "\n",
    "print(df_fbfill.ffill())\n",
    "print(df_fbfill.bfill())"
   ],
   "metadata": {
    "collapsed": false,
    "ExecuteTime": {
     "end_time": "2024-02-25T18:44:12.798022Z",
     "start_time": "2024-02-25T18:44:12.716391700Z"
    }
   },
   "id": "576976dbc80c3ce5",
   "execution_count": 11
  },
  {
   "cell_type": "markdown",
   "source": [
    "### Question 2: What is imputation, and why might it be useful in dealing with missing data?\n",
    "-------------------------------\n",
    "Missing values in a dataset can be filled using imputation, which is done by estimating or calling up for some calculated value to fill in the missing gaps. Imputing is an important step during data preprocessing since it guarantees that datasets are complete and ready for analysis and modeling. In order to handle missing at random and at the same time maintain the structure of the data, several imputation techniques have been developed.\n",
    "\n",
    "There are various typical methods of imputation such as:\n",
    "\n",
    "1. Mean/Median Imputation:\n",
    "\n",
    "+ The mean or median of the column( feature) with missing values will substitute them.\n",
    "- For numerical features this approach is straightforward and often used. As long as they do not bias on the distribution of the data, it assumes missings are lost randomly.\n",
    "\n",
    "2. Mode Imputation:\n",
    "\n",
    "+ Replacing missing categorical values with mode (most frequently occurring value) for each attribute.\n",
    "\n",
    "- This type of imputation is appropriate for categorical features having missing values.\n",
    "\n",
    "3. K-Nearest Neighbors (KNN) Imputation:\n",
    "\n",
    "+ Values get imputed by estimating from similar instances within a dataset (nearest neighbors).\n",
    "\n",
    "- KNN imputes takes into account distances between instances and their attributes when determining what values should be inserted.\n",
    "\n",
    "4. Regression Imputation:\n",
    "\n",
    "+ Use regression models trained on the non-missing values of the dataset to predict those missing.\n",
    "\n",
    "- This technique can be used for both numerical and categorical features, it exploits the relationships among features to impute missing values.\n",
    "\n",
    "5. Multiple imputation:\n",
    "\n",
    "+ Generate multiple databases of plausible values for each missing value.\n",
    "\n",
    "- In several statistical analyses, multiple imputation is carried out in order to account for the uncertainty stemming from imputed data.\n",
    "\n",
    "For instance, mean imputation can be done using Pandas as shown below:"
   ],
   "metadata": {
    "collapsed": false
   },
   "id": "f6db848bbe7a944e"
  },
  {
   "cell_type": "code",
   "outputs": [
    {
     "name": "stdout",
     "output_type": "stream",
     "text": [
      "Original DataFrame:\n",
      "     A    B     C\n",
      "0  1.0  5.0   NaN\n",
      "1  2.0  NaN  10.0\n",
      "2  NaN  7.0  11.0\n",
      "3  4.0  8.0  12.0\n",
      "\n",
      "DataFrame after Mean Imputation:\n",
      "          A         B     C\n",
      "0  1.000000  5.000000  11.0\n",
      "1  2.000000  6.666667  10.0\n",
      "2  2.333333  7.000000  11.0\n",
      "3  4.000000  8.000000  12.0\n"
     ]
    }
   ],
   "source": [
    "data = {'A': [1, 2, None, 4],\n",
    "        'B': [5, None, 7, 8],\n",
    "        'C': [None, 10, 11, 12]}\n",
    "df = pd.DataFrame(data)\n",
    "\n",
    "# Mean imputation for numerical columns\n",
    "df_imputed = df.fillna(df.mean())\n",
    "\n",
    "print(\"Original DataFrame:\")\n",
    "print(df)\n",
    "print(\"\\nDataFrame after Mean Imputation:\")\n",
    "print(df_imputed)"
   ],
   "metadata": {
    "collapsed": false,
    "ExecuteTime": {
     "end_time": "2024-02-25T18:46:05.300228900Z",
     "start_time": "2024-02-25T18:46:05.294450800Z"
    }
   },
   "id": "d05468d4c1c2a57a",
   "execution_count": 16
  },
  {
   "cell_type": "markdown",
   "source": [
    "In this example, missing values in numerical columns 'A' and 'B' are filled with the mean of each respective column using mean imputation.\n",
    "Why imputation might be useful in dealing with data?\n",
    "Here is some points why imputation should be used to handle missing data:\n",
    "\n",
    "+ Maintenance of Data Integrity: Imputation ensure that datasets are complete and can be analyzed and modeled comprehensively. The completion of missing values through imputation helps prevent losing valuable data that may take place when incomplete information is discarded.\n",
    "\n",
    "- Preservation of Sample Size: Eliminating rows or columns with missing values may result in considerable reduction in the size of the entire dataset, thereby affecting statistical power for analytical tasks or models. This procedure allows a researcher to keep all elements of sample hence guaranteeing robust and dependable outcomes.\n",
    "\n",
    "+ Reduction of Bias: Removal of cases having missing data could lead to bias especially if it was related to the outcome variable. These methods try to compute the values lost by examining the available information prior to running other analysis so as minimize them.\n",
    "\n",
    "- Increase in Statistical Power: Through imputing, more information is obtained which can enhance precision and accuracy making estimations that are statistically powerful. By filling in these gaps, imputations optimizes use of existing information that results in accurate outputs.\n",
    "\n",
    "+ Compatible with Analytical Techniques: There are many statistical and machine learning algorithms which require complete datasets for training purposes and testing"
   ],
   "metadata": {
    "collapsed": false
   },
   "id": "fec7b9825acf881c"
  }
 ],
 "metadata": {
  "kernelspec": {
   "display_name": "Python 3 (ipykernel)",
   "language": "python",
   "name": "python3"
  },
  "language_info": {
   "codemirror_mode": {
    "name": "ipython",
    "version": 3
   },
   "file_extension": ".py",
   "mimetype": "text/x-python",
   "name": "python",
   "nbconvert_exporter": "python",
   "pygments_lexer": "ipython3",
   "version": "3.11.8"
  }
 },
 "nbformat": 4,
 "nbformat_minor": 5
}
