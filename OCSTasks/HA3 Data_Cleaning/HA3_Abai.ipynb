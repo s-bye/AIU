{
 "cells": [
  {
   "cell_type": "code",
   "execution_count": 73,
   "id": "initial_id",
   "metadata": {
    "ExecuteTime": {
     "end_time": "2024-02-26T18:18:45.723209800Z",
     "start_time": "2024-02-26T18:18:45.594246900Z"
    }
   },
   "outputs": [],
   "source": [
    "import pandas as pd\n",
    "import numpy as np\n",
    "from scipy.stats import zscore"
   ]
  },
  {
   "cell_type": "markdown",
   "id": "85d13c443bb22b40",
   "metadata": {
    "collapsed": false
   },
   "source": [
    "# HA: Data_cleaning\n",
    "-------------------------------\n",
    "## Handling Missing Data Questions\n",
    "-------------------------------\n",
    "### Question 1: How do you identify and handle missing values in a Pandas DataFrame?\n",
    "-------------------------------\n",
    "Identifying and handling missing values is a crucial task in data analysis using Pandas. Missing values can occur due to various reasons like data collection errors, data corruption, or simply because the information is not available. \n",
    "\n",
    "A missing value in a dataset is displayed as a question mark, zero, NaN or just a blank cell. But how can we deal with missing data?\n",
    "\n",
    "Of course, every situation is different and should be evaluated differently.\n",
    "\n",
    "There are many ways to deal with missing values. Let's look at typical options using the example of a dataset - 'Titanic'. This data is an open Kaggle dataset.\n",
    "\n",
    "#### Identification missing values\n",
    "\n",
    "There are two methods for detecting missing data: - `isnull()` and `notnull()`.\n",
    "\n",
    "The Pandas `read.csv()` method is used for loading. The file path is quoted in brackets, so that Pandas reads the file into the Dataframes from that address. The file path can be a URL address or your local file address."
   ]
  },
  {
   "cell_type": "code",
   "execution_count": 74,
   "id": "3cd4bfb9f3c163f4",
   "metadata": {
    "collapsed": false,
    "ExecuteTime": {
     "end_time": "2024-02-26T18:18:45.737067300Z",
     "start_time": "2024-02-26T18:18:45.717234100Z"
    }
   },
   "outputs": [],
   "source": [
    "train_df = pd.read_csv('Titanic-Dataset.csv')"
   ]
  },
  {
   "cell_type": "markdown",
   "id": "3ac26c79290ff90b",
   "metadata": {
    "collapsed": false
   },
   "source": [
    "The result is a boolean value indicating whether the value passed to the argument is indeed missing. \"True\" ( True ) means that the value is a missing value, and \"False\" ( False ) means that the value is not missing."
   ]
  },
  {
   "cell_type": "code",
   "execution_count": 75,
   "id": "4a3475b96fcbc399",
   "metadata": {
    "collapsed": false,
    "ExecuteTime": {
     "end_time": "2024-02-26T18:18:45.783585Z",
     "start_time": "2024-02-26T18:18:45.738918900Z"
    }
   },
   "outputs": [
    {
     "data": {
      "text/plain": "   PassengerId  Survived  Pclass   Name    Sex    Age  SibSp  Parch  Ticket  \\\n0        False     False   False  False  False  False  False  False   False   \n1        False     False   False  False  False  False  False  False   False   \n2        False     False   False  False  False  False  False  False   False   \n3        False     False   False  False  False  False  False  False   False   \n4        False     False   False  False  False  False  False  False   False   \n5        False     False   False  False  False   True  False  False   False   \n\n    Fare  Cabin  Embarked  \n0  False   True     False  \n1  False  False     False  \n2  False   True     False  \n3  False  False     False  \n4  False   True     False  \n5  False   True     False  ",
      "text/html": "<div>\n<style scoped>\n    .dataframe tbody tr th:only-of-type {\n        vertical-align: middle;\n    }\n\n    .dataframe tbody tr th {\n        vertical-align: top;\n    }\n\n    .dataframe thead th {\n        text-align: right;\n    }\n</style>\n<table border=\"1\" class=\"dataframe\">\n  <thead>\n    <tr style=\"text-align: right;\">\n      <th></th>\n      <th>PassengerId</th>\n      <th>Survived</th>\n      <th>Pclass</th>\n      <th>Name</th>\n      <th>Sex</th>\n      <th>Age</th>\n      <th>SibSp</th>\n      <th>Parch</th>\n      <th>Ticket</th>\n      <th>Fare</th>\n      <th>Cabin</th>\n      <th>Embarked</th>\n    </tr>\n  </thead>\n  <tbody>\n    <tr>\n      <th>0</th>\n      <td>False</td>\n      <td>False</td>\n      <td>False</td>\n      <td>False</td>\n      <td>False</td>\n      <td>False</td>\n      <td>False</td>\n      <td>False</td>\n      <td>False</td>\n      <td>False</td>\n      <td>True</td>\n      <td>False</td>\n    </tr>\n    <tr>\n      <th>1</th>\n      <td>False</td>\n      <td>False</td>\n      <td>False</td>\n      <td>False</td>\n      <td>False</td>\n      <td>False</td>\n      <td>False</td>\n      <td>False</td>\n      <td>False</td>\n      <td>False</td>\n      <td>False</td>\n      <td>False</td>\n    </tr>\n    <tr>\n      <th>2</th>\n      <td>False</td>\n      <td>False</td>\n      <td>False</td>\n      <td>False</td>\n      <td>False</td>\n      <td>False</td>\n      <td>False</td>\n      <td>False</td>\n      <td>False</td>\n      <td>False</td>\n      <td>True</td>\n      <td>False</td>\n    </tr>\n    <tr>\n      <th>3</th>\n      <td>False</td>\n      <td>False</td>\n      <td>False</td>\n      <td>False</td>\n      <td>False</td>\n      <td>False</td>\n      <td>False</td>\n      <td>False</td>\n      <td>False</td>\n      <td>False</td>\n      <td>False</td>\n      <td>False</td>\n    </tr>\n    <tr>\n      <th>4</th>\n      <td>False</td>\n      <td>False</td>\n      <td>False</td>\n      <td>False</td>\n      <td>False</td>\n      <td>False</td>\n      <td>False</td>\n      <td>False</td>\n      <td>False</td>\n      <td>False</td>\n      <td>True</td>\n      <td>False</td>\n    </tr>\n    <tr>\n      <th>5</th>\n      <td>False</td>\n      <td>False</td>\n      <td>False</td>\n      <td>False</td>\n      <td>False</td>\n      <td>True</td>\n      <td>False</td>\n      <td>False</td>\n      <td>False</td>\n      <td>False</td>\n      <td>True</td>\n      <td>False</td>\n    </tr>\n  </tbody>\n</table>\n</div>"
     },
     "execution_count": 75,
     "metadata": {},
     "output_type": "execute_result"
    }
   ],
   "source": [
    "missing_data = train_df.isnull()\n",
    "missing_data.head(6)"
   ]
  },
  {
   "cell_type": "markdown",
   "id": "c9b536979d515255",
   "metadata": {
    "collapsed": false
   },
   "source": [
    " `notnull()` method in Pandas is used to detect non-missing values in a DataFrame. It returns a boolean DataFrame where True indicates that the value is not missing, and False indicates that the value is missing. As an example, let's create some `df` DataFrame, check non-null values and output them, also let's find out which cabins in the dataset are non-null and output them. Let's write a code that will find the non-zero values in the 'Cabin' column and output them to us."
   ]
  },
  {
   "cell_type": "code",
   "outputs": [
    {
     "name": "stdout",
     "output_type": "stream",
     "text": [
      "       A      B     C\n",
      "0   True  False  True\n",
      "1   True   True  True\n",
      "2  False   True  True\n",
      "3   True   True  True\n"
     ]
    }
   ],
   "source": [
    "data = {'A': [1, 2, np.nan, 4],\n",
    "        'B': [np.nan, 5, 6, 7],\n",
    "        'C': ['a', 'b', 'c', 'd']}\n",
    "df = pd.DataFrame(data)\n",
    "\n",
    "# Using notnull() to detect non-missing values\n",
    "not_missing_data = df.notnull()\n",
    "print(not_missing_data)"
   ],
   "metadata": {
    "collapsed": false,
    "ExecuteTime": {
     "end_time": "2024-02-26T18:18:45.784586400Z",
     "start_time": "2024-02-26T18:18:45.751692200Z"
    }
   },
   "id": "8aebd627a78a46fd",
   "execution_count": 76
  },
  {
   "cell_type": "code",
   "execution_count": 77,
   "id": "66091891472a4566",
   "metadata": {
    "collapsed": false,
    "ExecuteTime": {
     "end_time": "2024-02-26T18:18:45.785587100Z",
     "start_time": "2024-02-26T18:18:45.755696Z"
    }
   },
   "outputs": [
    {
     "data": {
      "text/plain": "     PassengerId  Survived  Pclass  \\\n1              2         1       1   \n3              4         1       1   \n6              7         0       1   \n10            11         1       3   \n11            12         1       1   \n..           ...       ...     ...   \n871          872         1       1   \n872          873         0       1   \n879          880         1       1   \n887          888         1       1   \n889          890         1       1   \n\n                                                  Name     Sex   Age  SibSp  \\\n1    Cumings, Mrs. John Bradley (Florence Briggs Th...  female  38.0      1   \n3         Futrelle, Mrs. Jacques Heath (Lily May Peel)  female  35.0      1   \n6                              McCarthy, Mr. Timothy J    male  54.0      0   \n10                     Sandstrom, Miss. Marguerite Rut  female   4.0      1   \n11                            Bonnell, Miss. Elizabeth  female  58.0      0   \n..                                                 ...     ...   ...    ...   \n871   Beckwith, Mrs. Richard Leonard (Sallie Monypeny)  female  47.0      1   \n872                           Carlsson, Mr. Frans Olof    male  33.0      0   \n879      Potter, Mrs. Thomas Jr (Lily Alexenia Wilson)  female  56.0      0   \n887                       Graham, Miss. Margaret Edith  female  19.0      0   \n889                              Behr, Mr. Karl Howell    male  26.0      0   \n\n     Parch    Ticket     Fare        Cabin Embarked  \n1        0  PC 17599  71.2833          C85        C  \n3        0    113803  53.1000         C123        S  \n6        0     17463  51.8625          E46        S  \n10       1   PP 9549  16.7000           G6        S  \n11       0    113783  26.5500         C103        S  \n..     ...       ...      ...          ...      ...  \n871      1     11751  52.5542          D35        S  \n872      0       695   5.0000  B51 B53 B55        S  \n879      1     11767  83.1583          C50        C  \n887      0    112053  30.0000          B42        S  \n889      0    111369  30.0000         C148        C  \n\n[204 rows x 12 columns]",
      "text/html": "<div>\n<style scoped>\n    .dataframe tbody tr th:only-of-type {\n        vertical-align: middle;\n    }\n\n    .dataframe tbody tr th {\n        vertical-align: top;\n    }\n\n    .dataframe thead th {\n        text-align: right;\n    }\n</style>\n<table border=\"1\" class=\"dataframe\">\n  <thead>\n    <tr style=\"text-align: right;\">\n      <th></th>\n      <th>PassengerId</th>\n      <th>Survived</th>\n      <th>Pclass</th>\n      <th>Name</th>\n      <th>Sex</th>\n      <th>Age</th>\n      <th>SibSp</th>\n      <th>Parch</th>\n      <th>Ticket</th>\n      <th>Fare</th>\n      <th>Cabin</th>\n      <th>Embarked</th>\n    </tr>\n  </thead>\n  <tbody>\n    <tr>\n      <th>1</th>\n      <td>2</td>\n      <td>1</td>\n      <td>1</td>\n      <td>Cumings, Mrs. John Bradley (Florence Briggs Th...</td>\n      <td>female</td>\n      <td>38.0</td>\n      <td>1</td>\n      <td>0</td>\n      <td>PC 17599</td>\n      <td>71.2833</td>\n      <td>C85</td>\n      <td>C</td>\n    </tr>\n    <tr>\n      <th>3</th>\n      <td>4</td>\n      <td>1</td>\n      <td>1</td>\n      <td>Futrelle, Mrs. Jacques Heath (Lily May Peel)</td>\n      <td>female</td>\n      <td>35.0</td>\n      <td>1</td>\n      <td>0</td>\n      <td>113803</td>\n      <td>53.1000</td>\n      <td>C123</td>\n      <td>S</td>\n    </tr>\n    <tr>\n      <th>6</th>\n      <td>7</td>\n      <td>0</td>\n      <td>1</td>\n      <td>McCarthy, Mr. Timothy J</td>\n      <td>male</td>\n      <td>54.0</td>\n      <td>0</td>\n      <td>0</td>\n      <td>17463</td>\n      <td>51.8625</td>\n      <td>E46</td>\n      <td>S</td>\n    </tr>\n    <tr>\n      <th>10</th>\n      <td>11</td>\n      <td>1</td>\n      <td>3</td>\n      <td>Sandstrom, Miss. Marguerite Rut</td>\n      <td>female</td>\n      <td>4.0</td>\n      <td>1</td>\n      <td>1</td>\n      <td>PP 9549</td>\n      <td>16.7000</td>\n      <td>G6</td>\n      <td>S</td>\n    </tr>\n    <tr>\n      <th>11</th>\n      <td>12</td>\n      <td>1</td>\n      <td>1</td>\n      <td>Bonnell, Miss. Elizabeth</td>\n      <td>female</td>\n      <td>58.0</td>\n      <td>0</td>\n      <td>0</td>\n      <td>113783</td>\n      <td>26.5500</td>\n      <td>C103</td>\n      <td>S</td>\n    </tr>\n    <tr>\n      <th>...</th>\n      <td>...</td>\n      <td>...</td>\n      <td>...</td>\n      <td>...</td>\n      <td>...</td>\n      <td>...</td>\n      <td>...</td>\n      <td>...</td>\n      <td>...</td>\n      <td>...</td>\n      <td>...</td>\n      <td>...</td>\n    </tr>\n    <tr>\n      <th>871</th>\n      <td>872</td>\n      <td>1</td>\n      <td>1</td>\n      <td>Beckwith, Mrs. Richard Leonard (Sallie Monypeny)</td>\n      <td>female</td>\n      <td>47.0</td>\n      <td>1</td>\n      <td>1</td>\n      <td>11751</td>\n      <td>52.5542</td>\n      <td>D35</td>\n      <td>S</td>\n    </tr>\n    <tr>\n      <th>872</th>\n      <td>873</td>\n      <td>0</td>\n      <td>1</td>\n      <td>Carlsson, Mr. Frans Olof</td>\n      <td>male</td>\n      <td>33.0</td>\n      <td>0</td>\n      <td>0</td>\n      <td>695</td>\n      <td>5.0000</td>\n      <td>B51 B53 B55</td>\n      <td>S</td>\n    </tr>\n    <tr>\n      <th>879</th>\n      <td>880</td>\n      <td>1</td>\n      <td>1</td>\n      <td>Potter, Mrs. Thomas Jr (Lily Alexenia Wilson)</td>\n      <td>female</td>\n      <td>56.0</td>\n      <td>0</td>\n      <td>1</td>\n      <td>11767</td>\n      <td>83.1583</td>\n      <td>C50</td>\n      <td>C</td>\n    </tr>\n    <tr>\n      <th>887</th>\n      <td>888</td>\n      <td>1</td>\n      <td>1</td>\n      <td>Graham, Miss. Margaret Edith</td>\n      <td>female</td>\n      <td>19.0</td>\n      <td>0</td>\n      <td>0</td>\n      <td>112053</td>\n      <td>30.0000</td>\n      <td>B42</td>\n      <td>S</td>\n    </tr>\n    <tr>\n      <th>889</th>\n      <td>890</td>\n      <td>1</td>\n      <td>1</td>\n      <td>Behr, Mr. Karl Howell</td>\n      <td>male</td>\n      <td>26.0</td>\n      <td>0</td>\n      <td>0</td>\n      <td>111369</td>\n      <td>30.0000</td>\n      <td>C148</td>\n      <td>C</td>\n    </tr>\n  </tbody>\n</table>\n<p>204 rows × 12 columns</p>\n</div>"
     },
     "execution_count": 77,
     "metadata": {},
     "output_type": "execute_result"
    }
   ],
   "source": [
    "not_missing_data = pd.notnull(train_df['Cabin'])\n",
    "train_df[not_missing_data]"
   ]
  },
  {
   "cell_type": "markdown",
   "source": [
    "Now let's see how many missing values are in each column using `train_df.isnull().sum()`. `train_df.isnull().sum()` calculates the total number of missing values in each column of the `train_df`. We use `.use()` function in this situation."
   ],
   "metadata": {
    "collapsed": false
   },
   "id": "6c4104a21c9842b0"
  },
  {
   "cell_type": "code",
   "outputs": [
    {
     "data": {
      "text/plain": "PassengerId      0\nSurvived         0\nPclass           0\nName             0\nSex              0\nAge            177\nSibSp            0\nParch            0\nTicket           0\nFare             0\nCabin          687\nEmbarked         2\ndtype: int64"
     },
     "execution_count": 78,
     "metadata": {},
     "output_type": "execute_result"
    }
   ],
   "source": [
    "train_df.isnull().sum()"
   ],
   "metadata": {
    "collapsed": false,
    "ExecuteTime": {
     "end_time": "2024-02-26T18:18:45.786587700Z",
     "start_time": "2024-02-26T18:18:45.767678700Z"
    }
   },
   "id": "6dffe63ea48f941b",
   "execution_count": 78
  },
  {
   "cell_type": "markdown",
   "source": [
    "#### Handling missing values\n",
    "##### Remove missing values\n",
    "The most obvious thing we can do is to remove these missing values. We can delete rows and columns with missing values using `dropna()`.  As a first example, let's remove rows with missing values from a DataFrame that was created earlier."
   ],
   "metadata": {
    "collapsed": false
   },
   "id": "143a12110ebc9bf"
  },
  {
   "cell_type": "code",
   "outputs": [
    {
     "name": "stdout",
     "output_type": "stream",
     "text": [
      "     A    B  C\n",
      "1  2.0  5.0  b\n",
      "3  4.0  7.0  d\n"
     ]
    }
   ],
   "source": [
    "df.dropna(inplace=True)\n",
    "print(df)"
   ],
   "metadata": {
    "collapsed": false,
    "ExecuteTime": {
     "end_time": "2024-02-26T18:18:45.786587700Z",
     "start_time": "2024-02-26T18:18:45.772922400Z"
    }
   },
   "id": "98259f654788b9d7",
   "execution_count": 79
  },
  {
   "cell_type": "markdown",
   "source": [
    "Now let's delete all rows with passengers who have unknown cabin numbers and output the result."
   ],
   "metadata": {
    "collapsed": false
   },
   "id": "450012abde387493"
  },
  {
   "cell_type": "code",
   "outputs": [
    {
     "name": "stdout",
     "output_type": "stream",
     "text": [
      "     PassengerId  Survived  Pclass  \\\n",
      "1              2         1       1   \n",
      "3              4         1       1   \n",
      "6              7         0       1   \n",
      "10            11         1       3   \n",
      "11            12         1       1   \n",
      "..           ...       ...     ...   \n",
      "871          872         1       1   \n",
      "872          873         0       1   \n",
      "879          880         1       1   \n",
      "887          888         1       1   \n",
      "889          890         1       1   \n",
      "\n",
      "                                                  Name     Sex   Age  SibSp  \\\n",
      "1    Cumings, Mrs. John Bradley (Florence Briggs Th...  female  38.0      1   \n",
      "3         Futrelle, Mrs. Jacques Heath (Lily May Peel)  female  35.0      1   \n",
      "6                              McCarthy, Mr. Timothy J    male  54.0      0   \n",
      "10                     Sandstrom, Miss. Marguerite Rut  female   4.0      1   \n",
      "11                            Bonnell, Miss. Elizabeth  female  58.0      0   \n",
      "..                                                 ...     ...   ...    ...   \n",
      "871   Beckwith, Mrs. Richard Leonard (Sallie Monypeny)  female  47.0      1   \n",
      "872                           Carlsson, Mr. Frans Olof    male  33.0      0   \n",
      "879      Potter, Mrs. Thomas Jr (Lily Alexenia Wilson)  female  56.0      0   \n",
      "887                       Graham, Miss. Margaret Edith  female  19.0      0   \n",
      "889                              Behr, Mr. Karl Howell    male  26.0      0   \n",
      "\n",
      "     Parch    Ticket     Fare        Cabin Embarked  \n",
      "1        0  PC 17599  71.2833          C85        C  \n",
      "3        0    113803  53.1000         C123        S  \n",
      "6        0     17463  51.8625          E46        S  \n",
      "10       1   PP 9549  16.7000           G6        S  \n",
      "11       0    113783  26.5500         C103        S  \n",
      "..     ...       ...      ...          ...      ...  \n",
      "871      1     11751  52.5542          D35        S  \n",
      "872      0       695   5.0000  B51 B53 B55        S  \n",
      "879      1     11767  83.1583          C50        C  \n",
      "887      0    112053  30.0000          B42        S  \n",
      "889      0    111369  30.0000         C148        C  \n",
      "\n",
      "[204 rows x 12 columns]\n"
     ]
    }
   ],
   "source": [
    "passengers_with_known_cabins = train_df.dropna(subset='Cabin')\n",
    "print(passengers_with_known_cabins)"
   ],
   "metadata": {
    "collapsed": false,
    "ExecuteTime": {
     "end_time": "2024-02-26T18:18:45.846467400Z",
     "start_time": "2024-02-26T18:18:45.784586400Z"
    }
   },
   "id": "e7341c76078b25e5",
   "execution_count": 80
  },
  {
   "cell_type": "markdown",
   "source": [
    "##### Replace missing values\n",
    "When dealing with missing data in a Pandas DataFrame, one approach is to fill in those missing values. The `fillna()` method provides a convenient way to achieve this. Let's work with the titanic dataset. For the example, let's replace the age value with the average passengers with missing age value. To do this, lets us find the average value of people's age and replace missing values with it. For convenience, lets take a particular person with a missing age value, for example the person from line 6 - Mr. James."
   ],
   "metadata": {
    "collapsed": false
   },
   "id": "67909ebf5f3b063d"
  },
  {
   "cell_type": "code",
   "outputs": [
    {
     "name": "stdout",
     "output_type": "stream",
     "text": [
      "PassengerId                   6\n",
      "Survived                      0\n",
      "Pclass                        3\n",
      "Name           Moran, Mr. James\n",
      "Sex                        male\n",
      "Age                   29.699118\n",
      "SibSp                         0\n",
      "Parch                         0\n",
      "Ticket                   330877\n",
      "Fare                     8.4583\n",
      "Cabin                       NaN\n",
      "Embarked                      Q\n",
      "Name: 5, dtype: object\n"
     ]
    },
    {
     "name": "stderr",
     "output_type": "stream",
     "text": [
      "C:\\Users\\MZBes\\AppData\\Local\\Temp\\ipykernel_16228\\3161201996.py:1: FutureWarning: A value is trying to be set on a copy of a DataFrame or Series through chained assignment using an inplace method.\n",
      "The behavior will change in pandas 3.0. This inplace method will never work because the intermediate object on which we are setting values always behaves as a copy.\n",
      "\n",
      "For example, when doing 'df[col].method(value, inplace=True)', try using 'df.method({col: value}, inplace=True)' or df[col] = df[col].method(value) instead, to perform the operation inplace on the original object.\n",
      "\n",
      "\n",
      "  train_df['Age'].fillna(train_df['Age'].mean(), inplace = True)\n"
     ]
    }
   ],
   "source": [
    "train_df['Age'].fillna(train_df['Age'].mean(), inplace = True)\n",
    "print(train_df.iloc[5])"
   ],
   "metadata": {
    "collapsed": false,
    "ExecuteTime": {
     "end_time": "2024-02-26T18:18:45.848469100Z",
     "start_time": "2024-02-26T18:18:45.798273300Z"
    }
   },
   "id": "36c29e22ecd991af",
   "execution_count": 81
  },
  {
   "cell_type": "markdown",
   "source": [
    "##### Interpolation \n",
    "To deal with missing data in a dataset, interpolation is a very useful method for estimating and filling the gaps. Interpolation refers to the estimation of missing values using known data points that surround them. This technique works best for time series or ordered data where we expect that the missing values exhibit some pattern.\n",
    "\n",
    "Pandas provides for `interpolate()` function which allows for various types of interpolation. Let’s see it with a simple example:"
   ],
   "metadata": {
    "collapsed": false
   },
   "id": "1c034c824648de6"
  },
  {
   "cell_type": "code",
   "outputs": [
    {
     "name": "stdout",
     "output_type": "stream",
     "text": [
      "        Date  Value\n",
      "0 2022-01-01    1.0\n",
      "1 2022-01-02    2.0\n",
      "2 2022-01-03    3.0\n",
      "3 2022-01-04    4.0\n",
      "4 2022-01-05    5.0\n",
      "5 2022-01-06    6.0\n",
      "6 2022-01-07    7.0\n",
      "7 2022-01-08    8.0\n",
      "8 2022-01-09    9.0\n",
      "9 2022-01-10   10.0\n"
     ]
    }
   ],
   "source": [
    "data_interpolation = {'Date': pd.date_range(start='2022-01-01', periods=10),\n",
    "        'Value': [1, 2, np.nan, 4, np.nan, 6, np.nan, 8, 9, 10]}\n",
    "df_interpolation = pd.DataFrame(data_interpolation)\n",
    "print(df_interpolation.interpolate(method='linear'))"
   ],
   "metadata": {
    "collapsed": false,
    "ExecuteTime": {
     "end_time": "2024-02-26T18:18:45.952111300Z",
     "start_time": "2024-02-26T18:18:45.850471200Z"
    }
   },
   "id": "3ad35afc9d1f907e",
   "execution_count": 82
  },
  {
   "cell_type": "markdown",
   "source": [
    "There, the missing values are replaced with the estimated values obtained through linear interpolation."
   ],
   "metadata": {
    "collapsed": false
   },
   "id": "2c339c5659db735e"
  },
  {
   "cell_type": "markdown",
   "source": [
    "##### Forward Fill (ffill) and Backward Fill (bfill)\n",
    "Forward fill `ffill` and backward fill `bfill` are techniques for filling missing values in a DataFrame by propagating non-null values forward or backward along a specified axis, which is applicable to time series data or sequential data where missing values happen in sequence.\n",
    "\n",
    "1. Forward fill `ffill`\n",
    "\n",
    "+ With forward fill method, the missing values get replaced with those of the previous available ones on that particular column, as it pursues the last observed value until the next null value is met.\n",
    "\n",
    "- This way is good when the most recent valid information should be carried through subsequent periods with no information.\n",
    "\n",
    "2. Backward fill `bfill`\n",
    "\n",
    "+ The missing values are replaced with those of the succeeding populated cells within that specific axis through utilizing backward fill technique. It moves backwards to propagate till it gets to another previous unavailable value.\n",
    "\n",
    "- In cases where there is an expectation of future valuable observation, back-fill can come into play here since all empty spaces should take up valid measures from their respective future positions.\n",
    "\n",
    "Let’s see how they work using example:"
   ],
   "metadata": {
    "collapsed": false
   },
   "id": "efbdae472caa7ad7"
  },
  {
   "cell_type": "code",
   "outputs": [
    {
     "name": "stdout",
     "output_type": "stream",
     "text": [
      "     A    B\n",
      "0  1.0  NaN\n",
      "1  1.0  2.0\n",
      "2  3.0  2.0\n",
      "3  3.0  4.0\n",
      "4  5.0  4.0\n",
      "     A    B\n",
      "0  1.0  2.0\n",
      "1  3.0  2.0\n",
      "2  3.0  4.0\n",
      "3  5.0  4.0\n",
      "4  5.0  NaN\n"
     ]
    }
   ],
   "source": [
    "data_fbfill = {'A': [1, np.nan, 3, np.nan, 5],\n",
    "        'B': [np.nan, 2, np.nan, 4, np.nan]}\n",
    "df_fbfill = pd.DataFrame(data_fbfill)\n",
    "\n",
    "print(df_fbfill.ffill())\n",
    "print(df_fbfill.bfill())"
   ],
   "metadata": {
    "collapsed": false,
    "ExecuteTime": {
     "end_time": "2024-02-26T18:18:46.078689400Z",
     "start_time": "2024-02-26T18:18:45.924120100Z"
    }
   },
   "id": "576976dbc80c3ce5",
   "execution_count": 83
  },
  {
   "cell_type": "markdown",
   "source": [
    "### Question 2: What is imputation, and why might it be useful in dealing with missing data?\n",
    "-------------------------------\n",
    "Missing values in a dataset can be filled using imputation, which is done by estimating or calling up for some calculated value to fill in the missing gaps. Imputing is an important step during data preprocessing since it guarantees that datasets are complete and ready for analysis and modeling. In order to handle missing at random and at the same time maintain the structure of the data, several imputation techniques have been developed.\n",
    "\n",
    "There are various typical methods of imputation such as:\n",
    "\n",
    "1. Mean/Median Imputation:\n",
    "\n",
    "+ The mean or median of the column( feature) with missing values will substitute them.\n",
    "- For numerical features this approach is straightforward and often used. As long as they do not bias on the distribution of the data, it assumes missings are lost randomly.\n",
    "\n",
    "2. Mode Imputation:\n",
    "\n",
    "+ Replacing missing categorical values with mode (most frequently occurring value) for each attribute.\n",
    "\n",
    "- This type of imputation is appropriate for categorical features having missing values.\n",
    "\n",
    "3. K-Nearest Neighbors (KNN) Imputation:\n",
    "\n",
    "+ Values get imputed by estimating from similar instances within a dataset (nearest neighbors).\n",
    "\n",
    "- KNN imputes takes into account distances between instances and their attributes when determining what values should be inserted.\n",
    "\n",
    "4. Regression Imputation:\n",
    "\n",
    "+ Use regression models trained on the non-missing values of the dataset to predict those missing.\n",
    "\n",
    "- This technique can be used for both numerical and categorical features, it exploits the relationships among features to impute missing values.\n",
    "\n",
    "5. Multiple imputation:\n",
    "\n",
    "+ Generate multiple databases of plausible values for each missing value.\n",
    "\n",
    "- In several statistical analyses, multiple imputation is carried out in order to account for the uncertainty stemming from imputed data.\n",
    "\n",
    "For instance, mean imputation can be done using Pandas as shown below:"
   ],
   "metadata": {
    "collapsed": false
   },
   "id": "f6db848bbe7a944e"
  },
  {
   "cell_type": "code",
   "outputs": [
    {
     "name": "stdout",
     "output_type": "stream",
     "text": [
      "Original DataFrame\n",
      "     A    B     C\n",
      "0  1.0  5.0   NaN\n",
      "1  2.0  NaN  10.0\n",
      "2  NaN  7.0  11.0\n",
      "3  4.0  8.0  12.0\n",
      "DataFrame after Mode Imputation: \n",
      "\n",
      "     A    B     C\n",
      "0  1.0  5.0  10.0\n",
      "1  2.0  7.0  10.0\n",
      "2  4.0  7.0  11.0\n",
      "3  4.0  8.0  12.0\n",
      "\n",
      "DataFrame after Mean Imputation:\n",
      "          A         B     C\n",
      "0  1.000000  5.000000  11.0\n",
      "1  2.000000  6.666667  10.0\n",
      "2  2.333333  7.000000  11.0\n",
      "3  4.000000  8.000000  12.0\n"
     ]
    }
   ],
   "source": [
    "data = {'A': [1, 2, np.nan, 4],\n",
    "        'B': [5, np.nan, 7, 8],\n",
    "        'C': [np.nan, 10, 11, 12]}\n",
    "df = pd.DataFrame(data)\n",
    "\n",
    "df_imputed = df.fillna(df.mean())\n",
    "df_moded = df.fillna(df.mode())\n",
    "\n",
    "print('Original DataFrame')\n",
    "print(df)\n",
    "print('DataFrame after Mode Imputation: \\n')\n",
    "print(df_moded)\n",
    "print(\"\\nDataFrame after Mean Imputation:\")\n",
    "print(df_imputed)"
   ],
   "metadata": {
    "collapsed": false,
    "ExecuteTime": {
     "end_time": "2024-02-26T18:18:46.118589Z",
     "start_time": "2024-02-26T18:18:46.080690900Z"
    }
   },
   "id": "d05468d4c1c2a57a",
   "execution_count": 84
  },
  {
   "cell_type": "markdown",
   "source": [
    "In this example, missing values in numerical columns 'A' and 'B' are filled with the mean of each respective column using mean imputation.\n",
    "Why imputation might be useful in dealing with data?\n",
    "Here is some points why imputation should be used to handle missing data:\n",
    "\n",
    "+ Maintenance of Data Integrity: Imputation ensure that datasets are complete and can be analyzed and modeled comprehensively. The completion of missing values through imputation helps prevent losing valuable data that may take place when incomplete information is discarded.\n",
    "\n",
    "- Preservation of Sample Size: Eliminating rows or columns with missing values may result in considerable reduction in the size of the entire dataset, thereby affecting statistical power for analytical tasks or models. This procedure allows a researcher to keep all elements of sample hence guaranteeing robust and dependable outcomes.\n",
    "\n",
    "+ Reduction of Bias: Removal of cases having missing data could lead to bias especially if it was related to the outcome variable. These methods try to compute the values lost by examining the available information prior to running other analysis so as minimize them.\n",
    "\n",
    "- Increase in Statistical Power: Through imputing, more information is obtained which can enhance precision and accuracy making estimations that are statistically powerful. By filling in these gaps, imputations optimizes use of existing information that results in accurate outputs.\n",
    "\n",
    "+ Compatible with Analytical Techniques: There are many statistical and machine learning algorithms which require complete datasets for training purposes and testing"
   ],
   "metadata": {
    "collapsed": false
   },
   "id": "fec7b9825acf881c"
  },
  {
   "cell_type": "markdown",
   "source": [
    "--------------------------\n",
    "## Data Transformation Questions\n",
    "--------------------------\n",
    "### Question 1: How can you encode categorical variables in a Pandas DataFrame?\n",
    "--------------------------\n",
    "Encoding categorical variables involves converting categorical data (i.e., data that represents categories or labels) into a numerical format that machine learning algorithms can understand. Categorical variables can take on a limited, fixed number of possible values, such as colors, types of fruit, or levels of education.\n",
    "There are methods of encoding:"
   ],
   "metadata": {
    "collapsed": false
   },
   "id": "5767988b98f94a2c"
  },
  {
   "cell_type": "markdown",
   "source": [
    "1. Ordinal encoding:\n",
    "+ Ordinal encoding is similar to label encoding but allows for custom mapping of categories to specific integers based on a predefined order.\n",
    "+ Unlike label encoding, where the mapping is based on the order of appearance, ordinal encoding allows for explicit control over the mapping.\n",
    "+ Ordinal encoding is suitable for categorical variables with a natural order or hierarchy, where the numerical labels reflect the inherent order of the categories.\n",
    "+ Example: If the original categorical column represents levels of education ('low', 'medium', 'high'), ordinal encoding can map them to integers 1, 2, and 3, respectively, based on their order of importance or level."
   ],
   "metadata": {
    "collapsed": false
   },
   "id": "3ca6b60baba635d3"
  },
  {
   "cell_type": "code",
   "outputs": [
    {
     "name": "stdout",
     "output_type": "stream",
     "text": [
      "Original DataFrame:\n",
      "  category  encoded_category\n",
      "0      low                 1\n",
      "1   medium                 2\n",
      "2     high                 3\n",
      "3   medium                 2\n",
      "4      low                 1\n"
     ]
    }
   ],
   "source": [
    "data_ordinal = {'category': ['low', 'medium', 'high', 'medium', 'low']}\n",
    "df_ord = pd.DataFrame(data_ordinal)\n",
    "\n",
    "# Define the mapping of categories to integers\n",
    "mapping = {'low': 1, 'medium': 2, 'high': 3}\n",
    "\n",
    "df_ord['encoded_category'] = df_ord['category'].map(mapping)\n",
    "\n",
    "print(\"Original DataFrame:\")\n",
    "print(df_ord)"
   ],
   "metadata": {
    "collapsed": false,
    "ExecuteTime": {
     "end_time": "2024-02-26T18:18:46.157768700Z",
     "start_time": "2024-02-26T18:18:46.120590600Z"
    }
   },
   "id": "c3735030e5864d41",
   "execution_count": 85
  },
  {
   "cell_type": "markdown",
   "source": [
    "2. Pandas `factorize()`\n",
    "The pandas `factorize()` function is used to encode categorical data. It returns a tuple containing two elements:\n",
    "+ An array of integers representing the numerical labels of the categorical data.\n",
    "+ An Index object that contains the unique categories in the data, along with their corresponding integer codes.\n",
    "Example: the original categorical column 'category' with values ['A', 'B', 'C', 'A', 'C'] is encoded using the `factorize()` function. The encoded labels are assigned to the labels array, while the unique categories are stored in the `unique_categories` Index array. The encoded labels are then added as a new column 'encoded_category' to the DataFrame `df_fact`. Finally, both the original DataFrame and the encoded labels along with their corresponding unique categories are printing for reference."
   ],
   "metadata": {
    "collapsed": false
   },
   "id": "8b0fbc0afe9e3b98"
  },
  {
   "cell_type": "code",
   "outputs": [
    {
     "name": "stdout",
     "output_type": "stream",
     "text": [
      "Original DataFrame:\n",
      "  category  encoded_category\n",
      "0        A                 0\n",
      "1        B                 1\n",
      "2        C                 2\n",
      "3        A                 0\n",
      "4        C                 2\n",
      "\n",
      "Encoded labels:\n",
      "[0 1 2 0 2]\n",
      "\n",
      "Unique categories:\n",
      "Index(['A', 'B', 'C'], dtype='object')\n"
     ]
    }
   ],
   "source": [
    "data_fact = {'category': ['A', 'B', 'C', 'A', 'C']}\n",
    "df_fact = pd.DataFrame(data_fact)\n",
    "\n",
    "# Apply to factorize to the categorical column\n",
    "labels, unique_categories = pd.factorize(df_fact['category'])\n",
    "\n",
    "# Add the encoded labels to the DataFrame\n",
    "df_fact['encoded_category'] = labels\n",
    "\n",
    "print(\"Original DataFrame:\")\n",
    "print(df_fact)\n",
    "print(\"\\nEncoded labels:\")\n",
    "print(labels)\n",
    "print(\"\\nUnique categories:\")\n",
    "print(unique_categories)"
   ],
   "metadata": {
    "collapsed": false,
    "ExecuteTime": {
     "end_time": "2024-02-26T18:18:46.185890600Z",
     "start_time": "2024-02-26T18:18:46.159770400Z"
    }
   },
   "id": "b27e983c33739d07",
   "execution_count": 86
  },
  {
   "cell_type": "markdown",
   "source": [
    "### Question 2: What is one-hot encoding, and when would you use it in data preprocessing?\n",
    "------------------\n",
    "One-hot encoding is a technique used to represent categorical variables as binary vectors. In one-hot encoding, each category is represented by a binary feature column, where only one column is active (i.e., contains a value of 1) for each category, and all other columns are inactive (i.e., contain a value of 0).\n",
    "+ One-hot encoding transforms categorical variables into a binary format, where each category becomes a separate binary feature column.\n",
    "- For each unique category in the original column, a new binary feature column is created, indicating whether that category is present or not.\n",
    "* One-hot encoding is suitable for categorical variables without an inherent order, as it doesn't impose any numerical relationship between categories.\n",
    "+ Example: If the original categorical column has categories 'A', 'B', and 'C', one-hot encoding creates three new binary columns: 'A', 'B', and 'C', where each row has a 1 in the corresponding column if it belongs to that category and 0 otherwise."
   ],
   "metadata": {
    "collapsed": false
   },
   "id": "2f248f51f142acb6"
  },
  {
   "cell_type": "code",
   "outputs": [
    {
     "name": "stdout",
     "output_type": "stream",
     "text": [
      "Original DataFrame:\n",
      "  category\n",
      "0        A\n",
      "1        B\n",
      "2        C\n",
      "3        A\n",
      "4        C\n",
      "\n",
      "DataFrame after One-Hot Encoding:\n",
      "   category_A  category_B  category_C\n",
      "0        True       False       False\n",
      "1       False        True       False\n",
      "2       False       False        True\n",
      "3        True       False       False\n",
      "4       False       False        True\n"
     ]
    }
   ],
   "source": [
    "data_1h_encoding = {'category': ['A', 'B', 'C', 'A', 'C']}\n",
    "df_1h = pd.DataFrame(data_1h_encoding)\n",
    "\n",
    "encoded_1h_df = pd.get_dummies(df_1h, columns=['category'])\n",
    "\n",
    "print(\"Original DataFrame:\")\n",
    "print(df_1h)\n",
    "print(\"\\nDataFrame after One-Hot Encoding:\")\n",
    "print(encoded_1h_df)"
   ],
   "metadata": {
    "collapsed": false,
    "ExecuteTime": {
     "end_time": "2024-02-26T18:18:46.213080500Z",
     "start_time": "2024-02-26T18:18:46.187892500Z"
    }
   },
   "id": "b3bb088b3263a47",
   "execution_count": 87
  },
  {
   "cell_type": "markdown",
   "source": [
    "One-hot encoding is commonly used in data preprocessing when dealing with categorical variables in machine learning tasks. Here are some scenarios where one-hot encoding is useful:\n",
    "1. **Categorical Variables with No Inherent Order:**\n",
    "One hot encoding is useful, for dealing with variables that lack any order or structure. For example variables such, as \"color\" (green blue) or \"country\" (USA, UK, Canada) where the categories don't follow a sequence. In cases one hot encoding proves to be a choice.\n",
    "2. **Preventing Ordinal Bias:**\n",
    "When we use one encoding it helps avoid the model from assuming a hierarchy or order, among categories. For example if we encode a variable using integer labels (known as label encoding) the model could wrongly perceive the encoded values as having an order, which could result in biased predictions.\n",
    "3. **Preserving Category Information:**\n",
    "Using one encoding maintains the information without establishing any numerical relationships, between categories. This guarantees that the model can effectively differentiate between categories during both training and inference stages.\n",
    "4. **Suitability Machine Learning Algorithms:**\n",
    "Machine learning algorithms, including regression, decision trees and support vector machines necessitate numerical input features. With one encoding categorical variables are converted into a format that aligns with these algorithms making them usable in modeling workflows.\n",
    "5. **Preventing Misinterpretation of Categorical Variables:**\n",
    "Through the representation of variables as vectors one hot encoding prevents any misinterpretation of categorical data as continuous or ordinal. This ensures that each category is treated as distinct and independent, from others by the model.\n",
    "---------------------------------"
   ],
   "metadata": {
    "collapsed": false
   },
   "id": "c68095f71a3883ca"
  },
  {
   "cell_type": "markdown",
   "source": [
    "## Removing Duplicates Questions:\n",
    "---------------------------------\n",
    "### Question 1: How do you identify and remove duplicate rows from a DataFrame?\n",
    "---------------------------------\n",
    "Duplicate rows in a DataFrame are rows that have identical values across all columns.\n",
    "\n",
    "To identify duplicate rows in a DataFrame in Pandas, we can use the `duplicated()` method. This method returns a boolean Series indicating whether each row is a duplicate of a previous row. For example:"
   ],
   "metadata": {
    "collapsed": false
   },
   "id": "77d5a55f0bc40d77"
  },
  {
   "cell_type": "code",
   "outputs": [
    {
     "name": "stdout",
     "output_type": "stream",
     "text": [
      "Original DataFrame:\n",
      "\n",
      "   A  B\n",
      "0  1  a\n",
      "1  2  b\n",
      "2  3  c\n",
      "3  4  d\n",
      "4  2  b\n",
      "Duplicate Mask:\n",
      "0    False\n",
      "1    False\n",
      "2    False\n",
      "3    False\n",
      "4     True\n",
      "dtype: bool\n"
     ]
    }
   ],
   "source": [
    "data_dupl = {'A': [1, 2, 3, 4, 2],\n",
    "        'B': ['a', 'b', 'c', 'd', 'b']}\n",
    "df_dupl = pd.DataFrame(data_dupl)\n",
    "\n",
    "# Identify duplicate rows\n",
    "duplicate_mask = df_dupl.duplicated()\n",
    "\n",
    "print(\"Original DataFrame:\\n\")\n",
    "print(df_dupl)\n",
    "print(\"Duplicate Mask:\")\n",
    "print(duplicate_mask)\n"
   ],
   "metadata": {
    "collapsed": false,
    "ExecuteTime": {
     "end_time": "2024-02-26T18:18:46.239404100Z",
     "start_time": "2024-02-26T18:18:46.214081500Z"
    }
   },
   "id": "ec1c771604ad11b8",
   "execution_count": 88
  },
  {
   "cell_type": "markdown",
   "source": [
    "To remove duplicate rows from a DataFrame in Pandas, we can use the `drop_duplicates()` method. This method removes rows that are duplicates of other rows, keeping only the first occurrence of each unique row by default. Here's how we can do it:"
   ],
   "metadata": {
    "collapsed": false
   },
   "id": "df19e1b0cf865a19"
  },
  {
   "cell_type": "code",
   "outputs": [
    {
     "name": "stdout",
     "output_type": "stream",
     "text": [
      "Original DataFrame:\n",
      "\n",
      "   A  B\n",
      "0  1  a\n",
      "1  2  b\n",
      "2  3  c\n",
      "3  4  d\n",
      "4  2  b\n",
      "DataFrame after removing duplicates:\n",
      "   A  B\n",
      "0  1  a\n",
      "1  2  b\n",
      "2  3  c\n",
      "3  4  d\n"
     ]
    }
   ],
   "source": [
    "data_remove_dupl = {'A': [1, 2, 3, 4, 2],\n",
    "        'B': ['a', 'b', 'c', 'd', 'b']}\n",
    "df_remove_dupl = pd.DataFrame(data_remove_dupl)\n",
    "\n",
    "# Remove duplicate rows\n",
    "cleaned_df = df_remove_dupl.drop_duplicates()\n",
    "\n",
    "print(\"Original DataFrame:\\n\")\n",
    "print(df_remove_dupl)\n",
    "print(\"DataFrame after removing duplicates:\") # Last fourth row has been removed from Original DataFrame\n",
    "print(cleaned_df)"
   ],
   "metadata": {
    "collapsed": false,
    "ExecuteTime": {
     "end_time": "2024-02-26T18:18:46.266574900Z",
     "start_time": "2024-02-26T18:18:46.240405300Z"
    }
   },
   "id": "cea5ca566bdee28f",
   "execution_count": 89
  },
  {
   "cell_type": "markdown",
   "source": [
    "### Question 2: Can you explain the difference between the `duplicated()` and `drop_duplicates()` methods in Pandas?\n",
    "-------------------------\n",
    "`duplicated()` and `drop_duplicates()` are used in Pandas for handling duplicated rows in a DataFrame, but they serve for different purposes:\n",
    "\n",
    "`duplicated()`:\n",
    "+ The duplicated() method is used to identify duplicate rows in a DataFrame.\n",
    "+ It returns a boolean Series indicating whether each row is a duplicate of a previous row.\n",
    "+ Each duplicate row is marked with a True value, while non-duplicate rows are marked with False.\n",
    "+ This method helps in identifying which rows are duplicates without actually modifying the DataFrame.\n",
    "\n",
    "`drop_duplicates()`:\n",
    "+ The drop_duplicates() method is used to remove duplicate rows from a DataFrame.\n",
    "+ It returns a new DataFrame with duplicate rows removed, keeping only the first occurrence of each unique row by default.\n",
    "+ This method is used to clean the DataFrame by eliminating duplicate entries.\n",
    "+ By specifying additional parameters such as subset or keep, you can customize how duplicate rows are identified and which duplicates are kept.\n",
    "\n",
    "In short, the `duplicated()` function is utilized to detect duplicate rows, whereas `drop_duplicates()` is employed to eliminate duplicate rows from the DataFrame. These two functions work hand in hand and are commonly applied in data preprocessing workflows to manage duplicate data efficiently.\n",
    "------------------------------"
   ],
   "metadata": {
    "collapsed": false
   },
   "id": "d2db94520b75b06a"
  },
  {
   "cell_type": "markdown",
   "source": [
    "## Data Scaling and Normalization Questions:\n",
    "------------------------------\n",
    "Question 1: Discuss the importance of feature scaling in machine learning.\n",
    "------------------------------\n",
    "Machine learning depends on feature scaling as a basic aspect of its ways to ensure that models perform effectively and efficiently. Think of it this way, in some dataset you may be using other features whose measurement units differ or are totally different from each other and thus need to be converted.\n",
    "\n",
    "Let us explain it further. Consider a dataset which has two attributes namely “age” measured in years and “income” measured in thousands of dollars. It could be something like age ranging from 20 to 80 while income ranges from $20,000 to $200,000. When data is fed into machine learning algorithms, they might perceive income to be more important than it actually is because the numbers are bigger causing the model’s decision-making process become imbalanced.\n",
    "\n",
    "This problem can be corrected through feature scaling which ensures that features are transformed such that they exist within the same scale normally between 0 and 1 or have a mean of zero with standard deviation equal to one. Such normalization ensures that all features irrespective of their initial scales or units contribute equally towards model predictions.\n",
    "\n",
    "Moreover, many machine learning algorithms, converge more efficiently when the features are on a similar scale. This means that feature scaling can significantly speed up the training process and improve the overall performance of our models.\n",
    "\n",
    "In essence, feature scaling is like standardizing the playing field for our machine learning algorithms, allowing them to interpret and utilize the data more accurately and effectively. It's a critical step that helps us unlock the full potential of our models and produce more reliable and meaningful insights from our data.\n",
    "\n",
    "## Question 2: Explain the difference between min-max scaling and z-score normalization.\n",
    "---------------------------\n",
    "Min-max Scaling:\n",
    "+ Min-max scaling is a feature scaling technique used to rescale the features to a fixed range, typically between 0 and 1.\n",
    "+ It works by subtracting the minimum value of each feature from the original value and then dividing by the difference between the maximum and minimum values.\n",
    "+ Min-max scaling ensures that all feature values lie within the specified range, making it useful for algorithms that require input features to have a similar scale.\n",
    "+ Formula: \n",
    "![min-max-formula](min-max.png)\n",
    "\n",
    "Z-score Normalization:\n",
    "+ Z-score normalization, also known as standardization, is a feature scaling technique used to transform the features to have a mean of 0 and a standard deviation of 1.\n",
    "+ It works by subtracting the mean of each feature from the original value and then dividing by the standard deviation.\n",
    "+ Z-score normalization centers the data around the mean and scales it based on the variability (standard deviation) of the data.\n",
    "+ It results in feature values that are centered around 0 and have a similar scale, making it suitable for algorithms that assume a Gaussian distribution of the features.\n",
    "+ Formula:\n",
    "![z-score-formula](z-score.png)"
   ],
   "metadata": {
    "collapsed": false
   },
   "id": "7cdc265176798a4"
  },
  {
   "cell_type": "markdown",
   "source": [
    "## Handling Outliers Questions:\n",
    "----------------------\n",
    "Question 1: What are outliers, and why might they impact machine learning models?\n",
    "----------------------\n",
    "Outliers are distinct data points that deviate significantly from the majority of data in a dataset. They are rare or unusual compared to most data. Outliers can emerge due to measurement errors, experimental variation, or genuine but rare events. \n",
    "Outliers can affect machine learning models in several ways:\n",
    "\n",
    "1. Model fitting Bias: The estimates of statistical parameters such as the mean and variance may be mistaken by outliers. In case that there is an outlier in the data, its greatly deviant value will heavily affect the calculation of summary statistics and produce bias for model estimates.\n",
    "\n",
    "2. Distortion of Relations: Outliers can distort relationships within a database between variables. Outliers in regression analysis can influence an estimated regression line too much, which in turn results in inaccurate predictions and wrong conclusions about relationships between dependence independent variables.\n",
    "\n",
    "3. Increased Variance: Outliers can increase the variance of the model predictions, making the model less reliable. Machine learning models trained on datasets containing outliers may have higher prediction errors and lower generalization performance when applied to new, unseen data.\n",
    "\n",
    "4. Sensitive to Noise: Some machine learning algorithms are sensitive to outliers and noise in the data. Outliers can introduce noise into the training process, making it more challenging for the algorithm to identify meaningful patterns and relationships in the data.\n",
    "\n",
    "5. When Outliers Cause Model Instability: Model instability can be caused by outliers, particularly in methods that depend on distance or optimization. For example, in clustering algorithms like k-means, outliers can prevent per se clustering and lead to suboptimal assignments of cluster membership.\n",
    "\n",
    "6. Overfitting: One of the most insidious consequences of outliers is overfitting. In this scenario, the model becomes overly complex and starts fitting the noise present in the data rather than the true underlying patterns. Accommodating outliers can lead to poor generalization, rendering the model ineffective for new data.\n",
    "\n",
    "7. Outliers can also influence feature engineering decisions. Scaling methods, such as Min-Max scaling, can be sensitive to outliers, while more robust methods, like Z-score normalization, are less affected by their presence.\n",
    "\n",
    "8. Data distribution: The presence of outliers can distort the underlying data distribution. In datasets with features normally distributed, outliers can make the distribution appear skewed or non-normal. Consequently, models may draw faulty conclusions about the data, impacting their predictions.\n",
    "\n",
    "In summary, outliers can have a significant impact on machine learning models by biasing parameter estimates, distorting relationships between variables, increasing variance, introducing noise, causing model instability, and leading to overfitting. It is essential to identify and appropriately handle outliers during the data preprocessing stage to ensure the robustness and reliability of machine learning models.\n",
    "\n",
    "### Question 2: Describe different methods for detecting outliers in a dataset in Python\n",
    "--------------------------------\n",
    "Outliers can impact machine learning models by skewing statistical measures and influencing the model's behavior, leading to inaccurate predictions or biased results. Detecting and handling outliers is crucial for ensuring the robustness and reliability of machine learning models. So, there are few methods to detect them:\n",
    "1. Z-score can be used to detect outliers. We determine a threshold value for the Z-score, and data points with Z-scores beyond this threshold are considered potential outliers. It is common to use -3 and +3 as threshold. Any data point with a z-score below -3 or above +3 are treated as outliers. The reason for this common threshold is that 99.7% of the values in a standard normal distribution fall between -3 and +3.\n",
    "![z-score-method](zscoremethod.jpg)\n",
    "The suitability of Z-score as a method for detecting outliers depends on the specific characteristics of your data:\n",
    "- Z-score assumes that the data follow a normal distribution. If your data is not normally distributed, Z-score may not be the most appropriate method for detecting outliers.\n",
    "- Z-score is sensitive to extreme values, which can influence the mean and standard deviation, leading to misleading outlier detection.\n",
    "- Choosing a threshold for identifying outliers is subjective. A threshold of 3 is commonly used, but the optimal threshold may depend on your dataset and the context.\n",
    "![z-score-method-2](zscoremethod2.jpg)\n",
    "\n",
    "For example, we create the DataFrame with one outlier 100, and we need to find that outlier. We will SciPy library to calculate this:"
   ],
   "metadata": {
    "collapsed": false
   },
   "id": "3dafe89209e01d8f"
  },
  {
   "cell_type": "code",
   "outputs": [
    {
     "name": "stdout",
     "output_type": "stream",
     "text": [
      "Empty DataFrame\n",
      "Columns: [A]\n",
      "Index: []\n"
     ]
    }
   ],
   "source": [
    "data_with_outlier = pd.DataFrame({'A': [1, 2, 3, 4, 5, 100]})\n",
    "\n",
    "# Calculate Z-scores for column 'A'\n",
    "z_scores = zscore(data_with_outlier['A'])\n",
    "\n",
    "# Define threshold\n",
    "threshold = 3\n",
    "\n",
    "# Find outliers\n",
    "outliers = data_with_outlier[abs(z_scores) > threshold]\n",
    "\n",
    "print(outliers)"
   ],
   "metadata": {
    "collapsed": false,
    "ExecuteTime": {
     "end_time": "2024-02-26T18:18:46.295943Z",
     "start_time": "2024-02-26T18:18:46.267576100Z"
    }
   },
   "id": "64b12ae5c6462209",
   "execution_count": 90
  },
  {
   "cell_type": "code",
   "outputs": [],
   "source": [],
   "metadata": {
    "collapsed": false,
    "ExecuteTime": {
     "end_time": "2024-02-26T18:18:46.322432300Z",
     "start_time": "2024-02-26T18:18:46.297742100Z"
    }
   },
   "id": "3374a1ba75f0d7d5",
   "execution_count": 90
  }
 ],
 "metadata": {
  "kernelspec": {
   "display_name": "Python 3 (ipykernel)",
   "language": "python",
   "name": "python3"
  },
  "language_info": {
   "codemirror_mode": {
    "name": "ipython",
    "version": 3
   },
   "file_extension": ".py",
   "mimetype": "text/x-python",
   "name": "python",
   "nbconvert_exporter": "python",
   "pygments_lexer": "ipython3",
   "version": "3.11.8"
  }
 },
 "nbformat": 4,
 "nbformat_minor": 5
}
